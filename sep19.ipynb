{
  "nbformat": 4,
  "nbformat_minor": 0,
  "metadata": {
    "colab": {
      "provenance": [],
      "authorship_tag": "ABX9TyOAIMKE/gFg7ZRFJGoSAiZt",
      "include_colab_link": true
    },
    "kernelspec": {
      "name": "python3",
      "display_name": "Python 3"
    },
    "language_info": {
      "name": "python"
    }
  },
  "cells": [
    {
      "cell_type": "markdown",
      "metadata": {
        "id": "view-in-github",
        "colab_type": "text"
      },
      "source": [
        "<a href=\"https://colab.research.google.com/github/Munu2022/Django-Assignment1/blob/main/sep19.ipynb\" target=\"_parent\"><img src=\"https://colab.research.google.com/assets/colab-badge.svg\" alt=\"Open In Colab\"/></a>"
      ]
    },
    {
      "cell_type": "code",
      "execution_count": null,
      "metadata": {
        "colab": {
          "base_uri": "https://localhost:8080/"
        },
        "id": "Aii3KJ_LFNpJ",
        "outputId": "f9f6fd7c-76e6-4e8d-8e95-86a490d82e8d"
      },
      "outputs": [
        {
          "output_type": "stream",
          "name": "stdout",
          "text": [
            "\n",
            "1\n",
            "12\n",
            "123\n",
            "1234\n",
            "12345\n",
            "123456\n",
            "1234567\n",
            "12345678\n",
            "123456789\n",
            "1234567890\n"
          ]
        }
      ],
      "source": [
        "for i in range (0,11):\n",
        "  for j in range (0,i):\n",
        "    if j+1 == 10:\n",
        "      print(0,end='')\n",
        "    else:\n",
        "      print(j+1, end='')\n",
        "    \n",
        "  print()"
      ]
    },
    {
      "cell_type": "code",
      "source": [
        "for i in range (0,11):\n",
        "  for j in range (0,i):\n",
        "    print(1,end='')\n",
        "  print()"
      ],
      "metadata": {
        "colab": {
          "base_uri": "https://localhost:8080/"
        },
        "id": "47vvryhcR7mz",
        "outputId": "e215720d-9ed2-45ec-ca36-957bbdf6908e"
      },
      "execution_count": null,
      "outputs": [
        {
          "output_type": "stream",
          "name": "stdout",
          "text": [
            "\n",
            "1\n",
            "11\n",
            "111\n",
            "1111\n",
            "11111\n",
            "111111\n",
            "1111111\n",
            "11111111\n",
            "111111111\n",
            "1111111111\n"
          ]
        }
      ]
    },
    {
      "cell_type": "code",
      "source": [
        "for i in range (0,11):\n",
        "  for j in range (0,i):\n",
        "    print('*',end='')\n",
        "  print()"
      ],
      "metadata": {
        "colab": {
          "base_uri": "https://localhost:8080/"
        },
        "id": "bCLN8PGUSZBs",
        "outputId": "352a422c-72dd-439c-9b36-4e0d177960be"
      },
      "execution_count": null,
      "outputs": [
        {
          "output_type": "stream",
          "name": "stdout",
          "text": [
            "\n",
            "*\n",
            "**\n",
            "***\n",
            "****\n",
            "*****\n",
            "******\n",
            "*******\n",
            "********\n",
            "*********\n",
            "**********\n"
          ]
        }
      ]
    },
    {
      "cell_type": "code",
      "source": [
        "for i in range (10,0,-1):\n",
        "  for j in range (i,0,-1):\n",
        "    print('*',end=' ')\n",
        "  print()"
      ],
      "metadata": {
        "colab": {
          "base_uri": "https://localhost:8080/"
        },
        "id": "Ex72s5RBSls3",
        "outputId": "92a086d4-5057-4c21-bb48-266976dc4ec3"
      },
      "execution_count": null,
      "outputs": [
        {
          "output_type": "stream",
          "name": "stdout",
          "text": [
            "* * * * * * * * * * \n",
            "* * * * * * * * * \n",
            "* * * * * * * * \n",
            "* * * * * * * \n",
            "* * * * * * \n",
            "* * * * * \n",
            "* * * * \n",
            "* * * \n",
            "* * \n",
            "* \n"
          ]
        }
      ]
    },
    {
      "cell_type": "code",
      "source": [
        "for i in range (0,10):\n",
        "  for j in range(0,i):\n",
        "    print(' ',end='')\n",
        "  for k in range (i+1,10):\n",
        "    print('*',end='')\n",
        "  print()"
      ],
      "metadata": {
        "colab": {
          "base_uri": "https://localhost:8080/"
        },
        "id": "QBQZgUuabvpQ",
        "outputId": "6e2761c9-49ac-46dd-af2c-c5441f3681d2"
      },
      "execution_count": 62,
      "outputs": [
        {
          "output_type": "stream",
          "name": "stdout",
          "text": [
            "*********\n",
            " ********\n",
            "  *******\n",
            "   ******\n",
            "    *****\n",
            "     ****\n",
            "      ***\n",
            "       **\n",
            "        *\n",
            "         \n"
          ]
        }
      ]
    },
    {
      "cell_type": "code",
      "source": [
        "for i in range (0,10):\n",
        "  for j in range (9-i,0,-1):\n",
        "    print(' ',end='')\n",
        "  for k in range (0,i):\n",
        "    print('*',end='')\n",
        "  print()"
      ],
      "metadata": {
        "colab": {
          "base_uri": "https://localhost:8080/"
        },
        "id": "s3wAk5o6cbJ9",
        "outputId": "d0ead85b-a0c1-416b-baf2-c6e61016b295"
      },
      "execution_count": 79,
      "outputs": [
        {
          "output_type": "stream",
          "name": "stdout",
          "text": [
            "         \n",
            "        *\n",
            "       **\n",
            "      ***\n",
            "     ****\n",
            "    *****\n",
            "   ******\n",
            "  *******\n",
            " ********\n",
            "*********\n"
          ]
        }
      ]
    },
    {
      "cell_type": "code",
      "source": [
        "for i in range (10,0,-1):\n",
        "  for j in range (0, i):\n",
        "    print(' ',end='')\n",
        "  for k in range (i+1, 10):\n",
        "    print('*',end='')\n",
        "  print()"
      ],
      "metadata": {
        "colab": {
          "base_uri": "https://localhost:8080/"
        },
        "id": "ICZjOzNqWxjh",
        "outputId": "05b3c71d-1bbd-4d97-8117-884e655dfad2"
      },
      "execution_count": 60,
      "outputs": [
        {
          "output_type": "stream",
          "name": "stdout",
          "text": [
            "          \n",
            "         \n",
            "        *\n",
            "       **\n",
            "      ***\n",
            "     ****\n",
            "    *****\n",
            "   ******\n",
            "  *******\n",
            " ********\n"
          ]
        }
      ]
    },
    {
      "cell_type": "code",
      "source": [
        "for i in range (0,10):\n",
        "  for j in range (10-i,0,-1):\n",
        "    print(' ',end='')\n",
        "  for k in range(0,i+1):\n",
        "     print('*',end=' ')\n",
        "    \n",
        "  print()"
      ],
      "metadata": {
        "colab": {
          "base_uri": "https://localhost:8080/"
        },
        "id": "QCM_c-o6TZgN",
        "outputId": "fed8f2ac-db3c-40f1-ed60-4a4d338352f9"
      },
      "execution_count": 35,
      "outputs": [
        {
          "output_type": "stream",
          "name": "stdout",
          "text": [
            "          * \n",
            "         * * \n",
            "        * * * \n",
            "       * * * * \n",
            "      * * * * * \n",
            "     * * * * * * \n",
            "    * * * * * * * \n",
            "   * * * * * * * * \n",
            "  * * * * * * * * * \n",
            " * * * * * * * * * * \n"
          ]
        }
      ]
    },
    {
      "cell_type": "code",
      "source": [
        "for i in range (0,10):\n",
        "  for j in range(0,i):\n",
        "    print(' ',end='')\n",
        "  for k in range (i+1,10):\n",
        "    print('*',end=' ')\n",
        "  print()"
      ],
      "metadata": {
        "colab": {
          "base_uri": "https://localhost:8080/"
        },
        "id": "rfQuiz48ePZG",
        "outputId": "288664c2-b016-4642-f45f-96ac547f1ecd"
      },
      "execution_count": 80,
      "outputs": [
        {
          "output_type": "stream",
          "name": "stdout",
          "text": [
            "* * * * * * * * * \n",
            " * * * * * * * * \n",
            "  * * * * * * * \n",
            "   * * * * * * \n",
            "    * * * * * \n",
            "     * * * * \n",
            "      * * * \n",
            "       * * \n",
            "        * \n",
            "         \n"
          ]
        }
      ]
    },
    {
      "cell_type": "code",
      "source": [
        "for i in range (0,10):\n",
        "  for x in range (9-i,0,-1):\n",
        "    print (' ', end='')\n",
        "  for j in range (1,i+2):\n",
        "    if j == 10:\n",
        "      print (0,end='')\n",
        "    else:\n",
        "      print(j,end='')\n",
        "  for k in range (i,0,-1):\n",
        "    print (k, end='')\n",
        "  print()\n",
        "  "
      ],
      "metadata": {
        "colab": {
          "base_uri": "https://localhost:8080/"
        },
        "id": "sbeObrlfedIR",
        "outputId": "db0d05a7-b26a-468b-e8a9-e4596f323e21"
      },
      "execution_count": 41,
      "outputs": [
        {
          "output_type": "stream",
          "name": "stdout",
          "text": [
            "         1\n",
            "        121\n",
            "       12321\n",
            "      1234321\n",
            "     123454321\n",
            "    12345654321\n",
            "   1234567654321\n",
            "  123456787654321\n",
            " 12345678987654321\n",
            "1234567890987654321\n"
          ]
        }
      ]
    },
    {
      "cell_type": "code",
      "source": [],
      "metadata": {
        "id": "dOUkFkHYhfCI"
      },
      "execution_count": 39,
      "outputs": []
    },
    {
      "cell_type": "code",
      "source": [
        "for i in range (11,0,-1):\n",
        "  for x in range (0,11-i):\n",
        "    print(' ', end='')\n",
        "  for j in range (1,i):\n",
        "    if j == 10:\n",
        "      print(0,end='')\n",
        "    else:\n",
        "       print(j,end='')\n",
        "  for k in range (i-2,0,-1):\n",
        "    print(k, end='')\n",
        "  \n",
        "  print()"
      ],
      "metadata": {
        "colab": {
          "base_uri": "https://localhost:8080/"
        },
        "id": "0YnxDYpVmeGt",
        "outputId": "7e745f9f-5e23-4a11-ab8a-d38709845716"
      },
      "execution_count": 46,
      "outputs": [
        {
          "output_type": "stream",
          "name": "stdout",
          "text": [
            "1234567890987654321\n",
            " 12345678987654321\n",
            "  123456787654321\n",
            "   1234567654321\n",
            "    12345654321\n",
            "     123454321\n",
            "      1234321\n",
            "       12321\n",
            "        121\n",
            "         1\n",
            "          \n"
          ]
        }
      ]
    }
  ]
}