{
  "nbformat": 4,
  "nbformat_minor": 0,
  "metadata": {
    "colab": {
      "provenance": [],
      "authorship_tag": "ABX9TyPLzsYEITkBCL8wa8bra0yG",
      "include_colab_link": true
    },
    "kernelspec": {
      "name": "python3",
      "display_name": "Python 3"
    },
    "language_info": {
      "name": "python"
    }
  },
  "cells": [
    {
      "cell_type": "markdown",
      "metadata": {
        "id": "view-in-github",
        "colab_type": "text"
      },
      "source": [
        "<a href=\"https://colab.research.google.com/github/Munu2022/Django-Assignment1/blob/main/sep27.ipynb\" target=\"_parent\"><img src=\"https://colab.research.google.com/assets/colab-badge.svg\" alt=\"Open In Colab\"/></a>"
      ]
    },
    {
      "cell_type": "code",
      "execution_count": null,
      "metadata": {
        "id": "wDWGCaBzU9cd"
      },
      "outputs": [],
      "source": []
    },
    {
      "cell_type": "markdown",
      "source": [
        "#**object oriented programming **\n",
        "\n",
        "1. **class**:A Class is like an object constructor, or a \"blueprint\" for creating objects.\n",
        "2. **object**: it is instance of class\n",
        "3. **inheritance:**allows us to define a class that inherits all the methods and properties from another class.\n",
        "4. **Polymorphism :**Polymorphism is a programming term that refers to the use of the same function name, but with different signatures, for multiple types.In inheritance, the child class inherits the methods from the parent class.\n",
        "5. **Encapsulattion:**It describes the idea of wrapping data and the methods that work on data within one unit. This puts rest when we write code inside the class, to axcess that data we need to define object of thst data. \n",
        "6. **Abstraction :** hiding the unecessary code detail from the user. "
      ],
      "metadata": {
        "id": "2DbIlSdnZ6nP"
      }
    },
    {
      "cell_type": "code",
      "source": [
        "# Class\n",
        "class animal:\n",
        "  pass"
      ],
      "metadata": {
        "id": "4XTUCbQkePQy"
      },
      "execution_count": 10,
      "outputs": []
    },
    {
      "cell_type": "code",
      "source": [
        "#object\n",
        "obj1 = animal()"
      ],
      "metadata": {
        "id": "GoZD-jlXjdEh"
      },
      "execution_count": 11,
      "outputs": []
    },
    {
      "cell_type": "code",
      "source": [
        "#Inheritance \n",
        "#parent class\n",
        "class animal:\n",
        "  def __init__(self,color,height,weight):\n",
        "    self.color= color\n",
        "    self.height=height\n",
        "    self.weight=weight\n",
        "\n",
        "  def print_animal(self):\n",
        "    print(self.color,self.height,self.weight)\n",
        "\n",
        "#class child class\n",
        "class dog(animal):\n",
        "  def __init__(self,color,height,weight,name,breed):\n",
        "    self.name=name\n",
        "    self.breed=breed\n",
        "\n",
        "    animal.__init__(self,color,height,weight)\n",
        "\n",
        "  def print_dog(self):\n",
        "    print(self.name,self.breed)\n",
        "\n",
        "\n",
        "      \n",
        "  \n",
        "class cat(animal):\n",
        "  pass\n",
        "\n",
        "class rat(animal):\n",
        "  pass\n",
        "\n",
        "   "
      ],
      "metadata": {
        "id": "jiowHQtUj97-"
      },
      "execution_count": 39,
      "outputs": []
    },
    {
      "cell_type": "code",
      "source": [
        "a_dog = dog('black',12,34,'bull','bull')"
      ],
      "metadata": {
        "id": "lhT_vDhrmcjD"
      },
      "execution_count": 40,
      "outputs": []
    },
    {
      "cell_type": "code",
      "source": [
        "a_dog.print_animal()"
      ],
      "metadata": {
        "colab": {
          "base_uri": "https://localhost:8080/"
        },
        "id": "Njb_4s5Hmlc0",
        "outputId": "0dac73b9-c335-4a7a-f0fc-5d440021a683"
      },
      "execution_count": 41,
      "outputs": [
        {
          "output_type": "stream",
          "name": "stdout",
          "text": [
            "black 12 34\n"
          ]
        }
      ]
    },
    {
      "cell_type": "code",
      "source": [
        "a_dog.print_dog()"
      ],
      "metadata": {
        "colab": {
          "base_uri": "https://localhost:8080/"
        },
        "id": "V6cB5visqvz3",
        "outputId": "9e6e28d3-22fa-43ec-b812-64065a9b6925"
      },
      "execution_count": 42,
      "outputs": [
        {
          "output_type": "stream",
          "name": "stdout",
          "text": [
            "bull bull\n"
          ]
        }
      ]
    },
    {
      "cell_type": "code",
      "source": [
        "class Person(object):"
      ],
      "metadata": {
        "id": "8AIE2Yw3soWf"
      },
      "execution_count": null,
      "outputs": []
    }
  ]
}