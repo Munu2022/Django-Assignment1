{
  "nbformat": 4,
  "nbformat_minor": 0,
  "metadata": {
    "colab": {
      "provenance": [],
      "authorship_tag": "ABX9TyO1JZIibHPzQKI8XOFVnXPB",
      "include_colab_link": true
    },
    "kernelspec": {
      "name": "python3",
      "display_name": "Python 3"
    },
    "language_info": {
      "name": "python"
    }
  },
  "cells": [
    {
      "cell_type": "markdown",
      "metadata": {
        "id": "view-in-github",
        "colab_type": "text"
      },
      "source": [
        "<a href=\"https://colab.research.google.com/github/Munu2022/Django-Assignment1/blob/main/sep11.ipynb\" target=\"_parent\"><img src=\"https://colab.research.google.com/assets/colab-badge.svg\" alt=\"Open In Colab\"/></a>"
      ]
    },
    {
      "cell_type": "code",
      "execution_count": 8,
      "metadata": {
        "colab": {
          "base_uri": "https://localhost:8080/"
        },
        "id": "zy4kaTdZANvB",
        "outputId": "d1eb523d-11d5-42c3-d307-fa3fa0817095"
      },
      "outputs": [
        {
          "output_type": "stream",
          "name": "stdout",
          "text": [
            "1\n",
            "3\n"
          ]
        }
      ],
      "source": [
        "tup1 = ('Mon', 'Tue', 'Wed', 'Thur', 'Fri', 'Sat', 'Sun')\n",
        "print(tup1.count('Mon'))\n",
        "print(tup1.index('Thur'))\n",
        "\n"
      ]
    },
    {
      "cell_type": "code",
      "source": [
        "set1 = {1,2,3,4,'mon','tue','wed',True,False,1,2,3,4,\"python\"}\n",
        "set1"
      ],
      "metadata": {
        "colab": {
          "base_uri": "https://localhost:8080/"
        },
        "id": "II1vxgTYEeB-",
        "outputId": "0978a1e3-0e17-484c-86c9-24e22a20de1b"
      },
      "execution_count": 9,
      "outputs": [
        {
          "output_type": "execute_result",
          "data": {
            "text/plain": [
              "{1, 2, 3, 4, False, 'mon', 'python', 'tue', 'wed'}"
            ]
          },
          "metadata": {},
          "execution_count": 9
        }
      ]
    },
    {
      "cell_type": "markdown",
      "source": [
        "since set suffle value we cannot index any value."
      ],
      "metadata": {
        "id": "FKs_RV1CFaJe"
      }
    },
    {
      "cell_type": "code",
      "source": [
        "set2 = {'Phython', 'python', 'pYthon','PYTHON','PYThon'}\n",
        "set2"
      ],
      "metadata": {
        "colab": {
          "base_uri": "https://localhost:8080/"
        },
        "id": "_HCi0p6CFvNz",
        "outputId": "85a0bbcc-edba-4992-d0fc-634a4e812c62"
      },
      "execution_count": 10,
      "outputs": [
        {
          "output_type": "execute_result",
          "data": {
            "text/plain": [
              "{'PYTHON', 'PYThon', 'Phython', 'pYthon', 'python'}"
            ]
          },
          "metadata": {},
          "execution_count": 10
        }
      ]
    },
    {
      "cell_type": "markdown",
      "source": [
        "python is case sensitive language"
      ],
      "metadata": {
        "id": "LNocLW3NGPgN"
      }
    },
    {
      "cell_type": "code",
      "source": [
        "set1.add('king')\n",
        "set1"
      ],
      "metadata": {
        "colab": {
          "base_uri": "https://localhost:8080/"
        },
        "id": "pz1k6JsEGjcd",
        "outputId": "0360e3b3-4444-47b5-b10e-9cf15247a4aa"
      },
      "execution_count": 11,
      "outputs": [
        {
          "output_type": "execute_result",
          "data": {
            "text/plain": [
              "{1, 2, 3, 4, False, 'king', 'mon', 'python', 'tue', 'wed'}"
            ]
          },
          "metadata": {},
          "execution_count": 11
        }
      ]
    },
    {
      "cell_type": "code",
      "source": [
        "set_cp = set1.copy()\n",
        "print(set1)\n",
        "print(set_cp)\n"
      ],
      "metadata": {
        "colab": {
          "base_uri": "https://localhost:8080/"
        },
        "id": "PcQcjAU7GunT",
        "outputId": "0d4bef86-0231-4b90-cdbf-0e8b79e40445"
      },
      "execution_count": 13,
      "outputs": [
        {
          "output_type": "stream",
          "name": "stdout",
          "text": [
            "{False, 1, 2, 3, 4, 'tue', 'mon', 'king', 'python', 'wed'}\n",
            "{False, 1, 2, 3, 4, 'tue', 'mon', 'king', 'python', 'wed'}\n"
          ]
        }
      ]
    },
    {
      "cell_type": "code",
      "source": [
        "set_cp.add(5)\n",
        "set_cp.add('queen')\n",
        "set1.add(10)"
      ],
      "metadata": {
        "id": "m9azExt_HKYV"
      },
      "execution_count": 17,
      "outputs": []
    },
    {
      "cell_type": "code",
      "source": [
        "set1.difference(set_cp)"
      ],
      "metadata": {
        "colab": {
          "base_uri": "https://localhost:8080/"
        },
        "id": "alQY7L5QHtc0",
        "outputId": "151eb4dc-5ac8-48d7-ffc3-7a1d0590cf0b"
      },
      "execution_count": 18,
      "outputs": [
        {
          "output_type": "execute_result",
          "data": {
            "text/plain": [
              "{10}"
            ]
          },
          "metadata": {},
          "execution_count": 18
        }
      ]
    },
    {
      "cell_type": "code",
      "source": [
        "set_cp.difference(set1)"
      ],
      "metadata": {
        "colab": {
          "base_uri": "https://localhost:8080/"
        },
        "id": "_ExokeWnIAfz",
        "outputId": "e12a3d94-6b2b-43c0-e623-c575da3672d0"
      },
      "execution_count": 19,
      "outputs": [
        {
          "output_type": "execute_result",
          "data": {
            "text/plain": [
              "{5, 'queen'}"
            ]
          },
          "metadata": {},
          "execution_count": 19
        }
      ]
    },
    {
      "cell_type": "markdown",
      "source": [
        "**all below only two set values are calculated.**\n",
        "for more then 2 sets run in parenthesis:<br>\n",
        "*eg: set1.intersection(set2.intersection(set3)*<br>\n",
        "difference_update: <br>\n",
        "Intersection: <br>\n",
        "Intersection_update:<br>\n",
        "symmetic_difference: gives difference from both of the sets.(unlike just difference)<br>\n",
        "symmetic_difference_update:<br>\n",
        "\n",
        "**rest set funtion read for assignment **\n"
      ],
      "metadata": {
        "id": "X6nI9ybsIVdq"
      }
    },
    {
      "cell_type": "markdown",
      "source": [
        "Dictionary : represented by {}, and it carries key and value"
      ],
      "metadata": {
        "id": "x5MPbqvyLCLn"
      }
    },
    {
      "cell_type": "code",
      "source": [
        "weekdays = {0:'Sun',1:'Mon',2:'Tue',3:'wed',4:'Thur',5:'Fri',6:'Sat'}\n"
      ],
      "metadata": {
        "id": "c5Jw0R12LROr"
      },
      "execution_count": null,
      "outputs": []
    },
    {
      "cell_type": "code",
      "source": [
        "color = {'G':'Green','B':'Blue','R':'Red'}\n",
        "color['G']\n"
      ],
      "metadata": {
        "colab": {
          "base_uri": "https://localhost:8080/",
          "height": 35
        },
        "id": "2rzLFZMEL1LE",
        "outputId": "9e401b15-b186-43e3-8e0a-ccdc0a6cfa3c"
      },
      "execution_count": 20,
      "outputs": [
        {
          "output_type": "execute_result",
          "data": {
            "text/plain": [
              "'Green'"
            ],
            "application/vnd.google.colaboratory.intrinsic+json": {
              "type": "string"
            }
          },
          "metadata": {},
          "execution_count": 20
        }
      ]
    },
    {
      "cell_type": "markdown",
      "source": [
        "fromkeys: Create a new dictionary with keys from iterable and values set to value."
      ],
      "metadata": {
        "id": "77IVj9IbPHeY"
      }
    },
    {
      "cell_type": "code",
      "source": [
        "color.fromkeys()"
      ],
      "metadata": {
        "id": "R3352qSZM3y7"
      },
      "execution_count": null,
      "outputs": []
    },
    {
      "cell_type": "code",
      "source": [
        "x = ('k1', 'k2', 'k3')\n",
        "y = 17\n",
        "dict1 = color.fromkeys(x,y)\n",
        "dict1"
      ],
      "metadata": {
        "colab": {
          "base_uri": "https://localhost:8080/"
        },
        "id": "nSkWMD4ZNZr8",
        "outputId": "13b2ffa2-ad71-405b-96c1-a8f7ea9e07dd"
      },
      "execution_count": 22,
      "outputs": [
        {
          "output_type": "execute_result",
          "data": {
            "text/plain": [
              "{'k1': 17, 'k2': 17, 'k3': 17}"
            ]
          },
          "metadata": {},
          "execution_count": 22
        }
      ]
    },
    {
      "cell_type": "code",
      "source": [
        "x = ('k1', 'k2', 'k3')\n",
        "y = 17,18,19\n",
        "dict1 = color.fromkeys(x,y)\n",
        "dict1"
      ],
      "metadata": {
        "colab": {
          "base_uri": "https://localhost:8080/"
        },
        "id": "NrgAgpt4OCwo",
        "outputId": "133bb343-dfc5-49b4-a6f5-403c2fafabfc"
      },
      "execution_count": 23,
      "outputs": [
        {
          "output_type": "execute_result",
          "data": {
            "text/plain": [
              "{'k1': (17, 18, 19), 'k2': (17, 18, 19), 'k3': (17, 18, 19)}"
            ]
          },
          "metadata": {},
          "execution_count": 23
        }
      ]
    },
    {
      "cell_type": "code",
      "source": [
        "x = ('k1', 'k2', 'k3')\n",
        "y = [17,18,19]\n",
        "dict1 = color.fromkeys(x,y)\n",
        "dict1"
      ],
      "metadata": {
        "colab": {
          "base_uri": "https://localhost:8080/"
        },
        "id": "br4ceA1KOOIg",
        "outputId": "4654b8f3-7eda-45d7-cd3e-dbf3ac1712f5"
      },
      "execution_count": 25,
      "outputs": [
        {
          "output_type": "execute_result",
          "data": {
            "text/plain": [
              "{'k1': [17, 18, 19], 'k2': [17, 18, 19], 'k3': [17, 18, 19]}"
            ]
          },
          "metadata": {},
          "execution_count": 25
        }
      ]
    },
    {
      "cell_type": "markdown",
      "source": [
        "get:Return the value for key if key is in the dictionary, else default."
      ],
      "metadata": {
        "id": "HfKX7aYEO7og"
      }
    },
    {
      "cell_type": "code",
      "source": [
        "color.get('R')"
      ],
      "metadata": {
        "colab": {
          "base_uri": "https://localhost:8080/",
          "height": 35
        },
        "id": "Yiy-0y6LOxyF",
        "outputId": "9fc92cfc-bbc9-41b3-8478-5c4f6a8f5a2e"
      },
      "execution_count": 26,
      "outputs": [
        {
          "output_type": "execute_result",
          "data": {
            "text/plain": [
              "'Red'"
            ],
            "application/vnd.google.colaboratory.intrinsic+json": {
              "type": "string"
            }
          },
          "metadata": {},
          "execution_count": 26
        }
      ]
    },
    {
      "cell_type": "code",
      "source": [
        "color.items()\n"
      ],
      "metadata": {
        "colab": {
          "base_uri": "https://localhost:8080/"
        },
        "id": "VxpzVK6wPPjk",
        "outputId": "8313852b-99c4-4773-b10b-a41588264cb1"
      },
      "execution_count": 27,
      "outputs": [
        {
          "output_type": "execute_result",
          "data": {
            "text/plain": [
              "dict_items([('G', 'Green'), ('B', 'Blue'), ('R', 'Red')])"
            ]
          },
          "metadata": {},
          "execution_count": 27
        }
      ]
    },
    {
      "cell_type": "markdown",
      "source": [
        "item: gives list of tuples"
      ],
      "metadata": {
        "id": "0T5vKwXIPg2m"
      }
    },
    {
      "cell_type": "code",
      "source": [
        "color.keys()"
      ],
      "metadata": {
        "colab": {
          "base_uri": "https://localhost:8080/"
        },
        "id": "5wE6-_lcPk5_",
        "outputId": "f87d6143-a2ab-4e0a-d5f0-1b1102d02408"
      },
      "execution_count": 28,
      "outputs": [
        {
          "output_type": "execute_result",
          "data": {
            "text/plain": [
              "dict_keys(['G', 'B', 'R'])"
            ]
          },
          "metadata": {},
          "execution_count": 28
        }
      ]
    },
    {
      "cell_type": "code",
      "source": [
        "color.values()"
      ],
      "metadata": {
        "colab": {
          "base_uri": "https://localhost:8080/"
        },
        "id": "-YcAJ4pjPqp_",
        "outputId": "4b5091c7-fbf1-4503-a9a6-a7bf24574e43"
      },
      "execution_count": 29,
      "outputs": [
        {
          "output_type": "execute_result",
          "data": {
            "text/plain": [
              "dict_values(['Green', 'Blue', 'Red'])"
            ]
          },
          "metadata": {},
          "execution_count": 29
        }
      ]
    },
    {
      "cell_type": "markdown",
      "source": [
        "Go through the rest as assignments "
      ],
      "metadata": {
        "id": "3GdTyRn1Py7Z"
      }
    },
    {
      "cell_type": "code",
      "source": [
        "dic2 = {'DD':['Mon','Tue','wed'],\n",
        "    'MM':['May','June','Jul'],\n",
        "    'YY':[2019,2020,2021,2011]}\n",
        "dic2"
      ],
      "metadata": {
        "colab": {
          "base_uri": "https://localhost:8080/"
        },
        "id": "1ois3EpnRaMH",
        "outputId": "5b26152a-5b22-4e44-f195-9866352cc58f"
      },
      "execution_count": 35,
      "outputs": [
        {
          "output_type": "execute_result",
          "data": {
            "text/plain": [
              "{'DD': ['Mon', 'Tue', 'wed'],\n",
              " 'MM': ['May', 'June', 'Jul'],\n",
              " 'YY': [2019, 2020, 2021, 2011]}"
            ]
          },
          "metadata": {},
          "execution_count": 35
        }
      ]
    },
    {
      "cell_type": "code",
      "source": [
        "dic2['DD']\n"
      ],
      "metadata": {
        "colab": {
          "base_uri": "https://localhost:8080/"
        },
        "id": "vzJkMf1RSRCz",
        "outputId": "31fc7ce8-6004-4aa1-d4cb-46122b575658"
      },
      "execution_count": 37,
      "outputs": [
        {
          "output_type": "execute_result",
          "data": {
            "text/plain": [
              "['Mon', 'Tue', 'wed']"
            ]
          },
          "metadata": {},
          "execution_count": 37
        }
      ]
    },
    {
      "cell_type": "code",
      "source": [
        "dic2['MM'][2]"
      ],
      "metadata": {
        "colab": {
          "base_uri": "https://localhost:8080/",
          "height": 35
        },
        "id": "NY0r_UACS0dv",
        "outputId": "c4bf4bce-0276-4574-fda9-cc05775c1511"
      },
      "execution_count": 40,
      "outputs": [
        {
          "output_type": "execute_result",
          "data": {
            "text/plain": [
              "'Jul'"
            ],
            "application/vnd.google.colaboratory.intrinsic+json": {
              "type": "string"
            }
          },
          "metadata": {},
          "execution_count": 40
        }
      ]
    },
    {
      "cell_type": "markdown",
      "source": [
        "# Assignments \n",
        "\n",
        "1. create list of list, tuple, set, dictionary \n",
        "2. create tuple of list,tuple,set,dictionary \n",
        "3. create set of list, tuple,set,dictionary \n",
        "4. create dictionary  of list, tuple, set,dictionary \n",
        "\n",
        "\n",
        "google errors and try to solve the error"
      ],
      "metadata": {
        "id": "xg73KGZnTMI2"
      }
    },
    {
      "cell_type": "markdown",
      "source": [
        "Dictionary of Dictionary "
      ],
      "metadata": {
        "id": "m1XActn5UNuh"
      }
    },
    {
      "cell_type": "code",
      "source": [
        "dict3 = {'a':{1:[1,2,3,4,5],2:[6,7,8,9]}}"
      ],
      "metadata": {
        "id": "_th6sv51T4ib"
      },
      "execution_count": null,
      "outputs": []
    }
  ]
}