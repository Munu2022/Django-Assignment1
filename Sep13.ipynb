{
  "nbformat": 4,
  "nbformat_minor": 0,
  "metadata": {
    "colab": {
      "provenance": [],
      "authorship_tag": "ABX9TyN2LcOkFG4KM2dNUagS0aIR",
      "include_colab_link": true
    },
    "kernelspec": {
      "name": "python3",
      "display_name": "Python 3"
    },
    "language_info": {
      "name": "python"
    }
  },
  "cells": [
    {
      "cell_type": "markdown",
      "metadata": {
        "id": "view-in-github",
        "colab_type": "text"
      },
      "source": [
        "<a href=\"https://colab.research.google.com/github/Munu2022/Django-Assignment1/blob/main/Sep13.ipynb\" target=\"_parent\"><img src=\"https://colab.research.google.com/assets/colab-badge.svg\" alt=\"Open In Colab\"/></a>"
      ]
    },
    {
      "cell_type": "code",
      "execution_count": 1,
      "metadata": {
        "colab": {
          "base_uri": "https://localhost:8080/",
          "height": 35
        },
        "id": "P8kuqRf3R2Dn",
        "outputId": "ca6fa1fe-ec1c-46f9-e141-b6090c1fa014"
      },
      "outputs": [
        {
          "output_type": "execute_result",
          "data": {
            "text/plain": [
              "'constitution'"
            ],
            "application/vnd.google.colaboratory.intrinsic+json": {
              "type": "string"
            }
          },
          "metadata": {},
          "execution_count": 1
        }
      ],
      "source": [
        "str2 = \"constitution\"\n",
        "str2[::]"
      ]
    },
    {
      "cell_type": "code",
      "source": [
        "print(str2[-1::-1])"
      ],
      "metadata": {
        "colab": {
          "base_uri": "https://localhost:8080/"
        },
        "id": "S3Sr-QTgWP16",
        "outputId": "1349a3b3-a33e-4632-e3b1-cd0f7dc5a0b4"
      },
      "execution_count": 5,
      "outputs": [
        {
          "output_type": "stream",
          "name": "stdout",
          "text": [
            "noitutitsnoc\n"
          ]
        }
      ]
    },
    {
      "cell_type": "code",
      "source": [
        "print(str2[::-1])"
      ],
      "metadata": {
        "colab": {
          "base_uri": "https://localhost:8080/"
        },
        "id": "gygQvXD6Wvab",
        "outputId": "14fd4161-d7bc-4f3f-f0c2-8fd001586d99"
      },
      "execution_count": 6,
      "outputs": [
        {
          "output_type": "stream",
          "name": "stdout",
          "text": [
            "noitutitsnoc\n"
          ]
        }
      ]
    },
    {
      "cell_type": "code",
      "source": [
        "print(str2[0:12:1])"
      ],
      "metadata": {
        "colab": {
          "base_uri": "https://localhost:8080/"
        },
        "id": "CQBSdviiW3DO",
        "outputId": "0a02bee5-11a0-41df-e093-9969c07ac592"
      },
      "execution_count": 7,
      "outputs": [
        {
          "output_type": "stream",
          "name": "stdout",
          "text": [
            "constitution\n"
          ]
        }
      ]
    },
    {
      "cell_type": "code",
      "source": [
        "print(str2[-1:-14:-1])"
      ],
      "metadata": {
        "colab": {
          "base_uri": "https://localhost:8080/"
        },
        "id": "5ZENN2aRW_Rx",
        "outputId": "1fb65bb6-e8e0-41ec-ee88-2dbca749ab3e"
      },
      "execution_count": 9,
      "outputs": [
        {
          "output_type": "stream",
          "name": "stdout",
          "text": [
            "noitutitsnoc\n"
          ]
        }
      ]
    },
    {
      "cell_type": "code",
      "source": [
        "print(str2[-14::1])"
      ],
      "metadata": {
        "colab": {
          "base_uri": "https://localhost:8080/"
        },
        "id": "HZd5gVr1XFnQ",
        "outputId": "81f635e3-e1b4-4c2e-9d03-1b4bdc58e7eb"
      },
      "execution_count": 10,
      "outputs": [
        {
          "output_type": "stream",
          "name": "stdout",
          "text": [
            "constitution\n"
          ]
        }
      ]
    },
    {
      "cell_type": "code",
      "source": [
        "print(str2[12::-1])"
      ],
      "metadata": {
        "colab": {
          "base_uri": "https://localhost:8080/"
        },
        "id": "9hqpGNX5XJ1B",
        "outputId": "4b0b7741-1c15-4aad-9a51-cea1d02436ff"
      },
      "execution_count": 11,
      "outputs": [
        {
          "output_type": "stream",
          "name": "stdout",
          "text": [
            "noitutitsnoc\n"
          ]
        }
      ]
    },
    {
      "cell_type": "code",
      "source": [
        "tup1=('mon','tue','wed','thu','fri','sat','sun')\n",
        "print(tup1[0:5:1])\n",
        "print(tup1[-1:-6:-1])\n",
        "print(tup1[-5::1])\n",
        "print(tup1[4::11])"
      ],
      "metadata": {
        "colab": {
          "base_uri": "https://localhost:8080/"
        },
        "id": "Dql2v_NZafL9",
        "outputId": "2bb61fc5-4e35-45d7-9ab4-e0a8304dd3e4"
      },
      "execution_count": 14,
      "outputs": [
        {
          "output_type": "stream",
          "name": "stdout",
          "text": [
            "('mon', 'tue', 'wed', 'thu', 'fri')\n",
            "('sun', 'sat', 'fri', 'thu', 'wed')\n",
            "('wed', 'thu', 'fri', 'sat', 'sun')\n",
            "('fri',)\n"
          ]
        }
      ]
    },
    {
      "cell_type": "code",
      "source": [
        "lst2=[[1,2,3,4,5],\n",
        "      ('a','b','c','d'),\n",
        "      True,False,3.14,-2+7j]\n",
        "lst2"
      ],
      "metadata": {
        "colab": {
          "base_uri": "https://localhost:8080/"
        },
        "id": "oc-GaQSmbCMG",
        "outputId": "71a92387-a887-4272-9ff1-baaa58720d1b"
      },
      "execution_count": 15,
      "outputs": [
        {
          "output_type": "execute_result",
          "data": {
            "text/plain": [
              "[[1, 2, 3, 4, 5], ('a', 'b', 'c', 'd'), True, False, 3.14, (-2+7j)]"
            ]
          },
          "metadata": {},
          "execution_count": 15
        }
      ]
    },
    {
      "cell_type": "code",
      "source": [
        "lst2[0][1]"
      ],
      "metadata": {
        "colab": {
          "base_uri": "https://localhost:8080/"
        },
        "id": "bQ2QqpHycmuC",
        "outputId": "3320df9e-9ff6-41e3-8b2b-5d5b71452dfe"
      },
      "execution_count": 16,
      "outputs": [
        {
          "output_type": "execute_result",
          "data": {
            "text/plain": [
              "2"
            ]
          },
          "metadata": {},
          "execution_count": 16
        }
      ]
    },
    {
      "cell_type": "markdown",
      "source": [
        "Append is for single element,\n",
        "extend for bigger value"
      ],
      "metadata": {
        "id": "r_6ZunOOeDQT"
      }
    },
    {
      "cell_type": "code",
      "source": [
        "lst2.extend([{'a':1,'b':6,'c':3}])\n",
        "print(lst2)"
      ],
      "metadata": {
        "colab": {
          "base_uri": "https://localhost:8080/"
        },
        "id": "F6lWiVUseC21",
        "outputId": "025e2480-4541-4264-aeb4-377ff0bea5ef"
      },
      "execution_count": 24,
      "outputs": [
        {
          "output_type": "stream",
          "name": "stdout",
          "text": [
            "[[1, 2, 3, 4, 5], ('a', 'b', 'c', 'd'), True, False, 3.14, (-2+7j), 'a', 'b', 'c', 'a', 'b', 'c', {'a': 1, 'b': 6, 'c': 3}, {'a': 1, 'b': 6, 'c': 3}, {'a': 1, 'b': 6, 'c': 3}]\n"
          ]
        }
      ]
    },
    {
      "cell_type": "markdown",
      "source": [
        "eg: adding divtionary to list"
      ],
      "metadata": {
        "id": "KYIl88YDe0Y2"
      }
    },
    {
      "cell_type": "code",
      "source": [
        "print(lst2[6])"
      ],
      "metadata": {
        "colab": {
          "base_uri": "https://localhost:8080/"
        },
        "id": "Tfj6w1eje-8B",
        "outputId": "dec9e63e-ee80-40db-dcc8-ac469b296741"
      },
      "execution_count": 26,
      "outputs": [
        {
          "output_type": "stream",
          "name": "stdout",
          "text": [
            "a\n"
          ]
        }
      ]
    },
    {
      "cell_type": "code",
      "source": [],
      "metadata": {
        "id": "uKjJWnF9hDJO"
      },
      "execution_count": 48,
      "outputs": []
    },
    {
      "cell_type": "markdown",
      "source": [],
      "metadata": {
        "id": "NBlMQhtPe7Q8"
      }
    },
    {
      "cell_type": "code",
      "source": [],
      "metadata": {
        "id": "cm1jhYWbk8zZ"
      },
      "execution_count": 48,
      "outputs": []
    }
  ]
}