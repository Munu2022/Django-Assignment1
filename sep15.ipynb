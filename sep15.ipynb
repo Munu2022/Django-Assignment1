{
  "nbformat": 4,
  "nbformat_minor": 0,
  "metadata": {
    "colab": {
      "provenance": [],
      "authorship_tag": "ABX9TyP86BTCLqn1jVkLiVhqKwRJ",
      "include_colab_link": true
    },
    "kernelspec": {
      "name": "python3",
      "display_name": "Python 3"
    },
    "language_info": {
      "name": "python"
    }
  },
  "cells": [
    {
      "cell_type": "markdown",
      "metadata": {
        "id": "view-in-github",
        "colab_type": "text"
      },
      "source": [
        "<a href=\"https://colab.research.google.com/github/Munu2022/Django-Assignment1/blob/main/sep15.ipynb\" target=\"_parent\"><img src=\"https://colab.research.google.com/assets/colab-badge.svg\" alt=\"Open In Colab\"/></a>"
      ]
    },
    {
      "cell_type": "code",
      "execution_count": 1,
      "metadata": {
        "colab": {
          "base_uri": "https://localhost:8080/"
        },
        "id": "cTwHo4GpfGue",
        "outputId": "2bf92bfc-fd06-4795-acc3-98fec5633973"
      },
      "outputs": [
        {
          "output_type": "execute_result",
          "data": {
            "text/plain": [
              "int"
            ]
          },
          "metadata": {},
          "execution_count": 1
        }
      ],
      "source": [
        "int1=10\n",
        "type(int1)"
      ]
    },
    {
      "cell_type": "code",
      "source": [
        "flt1=3.14\n",
        "type(flt1)"
      ],
      "metadata": {
        "colab": {
          "base_uri": "https://localhost:8080/"
        },
        "id": "TiD0B3dzoOUZ",
        "outputId": "fb3740b8-d9d2-40cf-e51c-9a84b8141698"
      },
      "execution_count": 2,
      "outputs": [
        {
          "output_type": "execute_result",
          "data": {
            "text/plain": [
              "float"
            ]
          },
          "metadata": {},
          "execution_count": 2
        }
      ]
    },
    {
      "cell_type": "code",
      "source": [
        "list1=[1,3,5,6,\n",
        "       type]\n",
        "type(list1)"
      ],
      "metadata": {
        "colab": {
          "base_uri": "https://localhost:8080/"
        },
        "id": "PM1vBDFooY_8",
        "outputId": "3da45ed0-8145-4557-c32e-2212428d8a28"
      },
      "execution_count": 3,
      "outputs": [
        {
          "output_type": "execute_result",
          "data": {
            "text/plain": [
              "list"
            ]
          },
          "metadata": {},
          "execution_count": 3
        }
      ]
    },
    {
      "cell_type": "markdown",
      "source": [
        "1.Decimal:\n",
        "2. Binary: 0,1\n",
        "3. Octadecimal: 0,1,2,3,4,5,6,7\n",
        "4. Hexadecimal :0,1,2,3,4,5,6,7,8,9, a0,a1,a2,a3,a4,a5\n"
      ],
      "metadata": {
        "id": "RU8EeKLLpa72"
      }
    },
    {
      "cell_type": "code",
      "source": [
        "for i in range(0,50):\n",
        "  print('decimal',i)\n",
        "  print('binary ',bin(i))\n",
        "  print('octa   ',oct(i))\n",
        "  print('hexa.  ',hex(i))\n",
        "  print('********************')"
      ],
      "metadata": {
        "colab": {
          "base_uri": "https://localhost:8080/"
        },
        "id": "b2OC7a39pBaW",
        "outputId": "7b8c5142-03bc-4f89-f16c-c8217942da3a"
      },
      "execution_count": 6,
      "outputs": [
        {
          "output_type": "stream",
          "name": "stdout",
          "text": [
            "decimal 0\n",
            "binary  0b0\n",
            "octa    0o0\n",
            "hexa.   0x0\n",
            "********************\n",
            "decimal 1\n",
            "binary  0b1\n",
            "octa    0o1\n",
            "hexa.   0x1\n",
            "********************\n",
            "decimal 2\n",
            "binary  0b10\n",
            "octa    0o2\n",
            "hexa.   0x2\n",
            "********************\n",
            "decimal 3\n",
            "binary  0b11\n",
            "octa    0o3\n",
            "hexa.   0x3\n",
            "********************\n",
            "decimal 4\n",
            "binary  0b100\n",
            "octa    0o4\n",
            "hexa.   0x4\n",
            "********************\n",
            "decimal 5\n",
            "binary  0b101\n",
            "octa    0o5\n",
            "hexa.   0x5\n",
            "********************\n",
            "decimal 6\n",
            "binary  0b110\n",
            "octa    0o6\n",
            "hexa.   0x6\n",
            "********************\n",
            "decimal 7\n",
            "binary  0b111\n",
            "octa    0o7\n",
            "hexa.   0x7\n",
            "********************\n",
            "decimal 8\n",
            "binary  0b1000\n",
            "octa    0o10\n",
            "hexa.   0x8\n",
            "********************\n",
            "decimal 9\n",
            "binary  0b1001\n",
            "octa    0o11\n",
            "hexa.   0x9\n",
            "********************\n",
            "decimal 10\n",
            "binary  0b1010\n",
            "octa    0o12\n",
            "hexa.   0xa\n",
            "********************\n",
            "decimal 11\n",
            "binary  0b1011\n",
            "octa    0o13\n",
            "hexa.   0xb\n",
            "********************\n",
            "decimal 12\n",
            "binary  0b1100\n",
            "octa    0o14\n",
            "hexa.   0xc\n",
            "********************\n",
            "decimal 13\n",
            "binary  0b1101\n",
            "octa    0o15\n",
            "hexa.   0xd\n",
            "********************\n",
            "decimal 14\n",
            "binary  0b1110\n",
            "octa    0o16\n",
            "hexa.   0xe\n",
            "********************\n",
            "decimal 15\n",
            "binary  0b1111\n",
            "octa    0o17\n",
            "hexa.   0xf\n",
            "********************\n",
            "decimal 16\n",
            "binary  0b10000\n",
            "octa    0o20\n",
            "hexa.   0x10\n",
            "********************\n",
            "decimal 17\n",
            "binary  0b10001\n",
            "octa    0o21\n",
            "hexa.   0x11\n",
            "********************\n",
            "decimal 18\n",
            "binary  0b10010\n",
            "octa    0o22\n",
            "hexa.   0x12\n",
            "********************\n",
            "decimal 19\n",
            "binary  0b10011\n",
            "octa    0o23\n",
            "hexa.   0x13\n",
            "********************\n",
            "decimal 20\n",
            "binary  0b10100\n",
            "octa    0o24\n",
            "hexa.   0x14\n",
            "********************\n",
            "decimal 21\n",
            "binary  0b10101\n",
            "octa    0o25\n",
            "hexa.   0x15\n",
            "********************\n",
            "decimal 22\n",
            "binary  0b10110\n",
            "octa    0o26\n",
            "hexa.   0x16\n",
            "********************\n",
            "decimal 23\n",
            "binary  0b10111\n",
            "octa    0o27\n",
            "hexa.   0x17\n",
            "********************\n",
            "decimal 24\n",
            "binary  0b11000\n",
            "octa    0o30\n",
            "hexa.   0x18\n",
            "********************\n",
            "decimal 25\n",
            "binary  0b11001\n",
            "octa    0o31\n",
            "hexa.   0x19\n",
            "********************\n",
            "decimal 26\n",
            "binary  0b11010\n",
            "octa    0o32\n",
            "hexa.   0x1a\n",
            "********************\n",
            "decimal 27\n",
            "binary  0b11011\n",
            "octa    0o33\n",
            "hexa.   0x1b\n",
            "********************\n",
            "decimal 28\n",
            "binary  0b11100\n",
            "octa    0o34\n",
            "hexa.   0x1c\n",
            "********************\n",
            "decimal 29\n",
            "binary  0b11101\n",
            "octa    0o35\n",
            "hexa.   0x1d\n",
            "********************\n",
            "decimal 30\n",
            "binary  0b11110\n",
            "octa    0o36\n",
            "hexa.   0x1e\n",
            "********************\n",
            "decimal 31\n",
            "binary  0b11111\n",
            "octa    0o37\n",
            "hexa.   0x1f\n",
            "********************\n",
            "decimal 32\n",
            "binary  0b100000\n",
            "octa    0o40\n",
            "hexa.   0x20\n",
            "********************\n",
            "decimal 33\n",
            "binary  0b100001\n",
            "octa    0o41\n",
            "hexa.   0x21\n",
            "********************\n",
            "decimal 34\n",
            "binary  0b100010\n",
            "octa    0o42\n",
            "hexa.   0x22\n",
            "********************\n",
            "decimal 35\n",
            "binary  0b100011\n",
            "octa    0o43\n",
            "hexa.   0x23\n",
            "********************\n",
            "decimal 36\n",
            "binary  0b100100\n",
            "octa    0o44\n",
            "hexa.   0x24\n",
            "********************\n",
            "decimal 37\n",
            "binary  0b100101\n",
            "octa    0o45\n",
            "hexa.   0x25\n",
            "********************\n",
            "decimal 38\n",
            "binary  0b100110\n",
            "octa    0o46\n",
            "hexa.   0x26\n",
            "********************\n",
            "decimal 39\n",
            "binary  0b100111\n",
            "octa    0o47\n",
            "hexa.   0x27\n",
            "********************\n",
            "decimal 40\n",
            "binary  0b101000\n",
            "octa    0o50\n",
            "hexa.   0x28\n",
            "********************\n",
            "decimal 41\n",
            "binary  0b101001\n",
            "octa    0o51\n",
            "hexa.   0x29\n",
            "********************\n",
            "decimal 42\n",
            "binary  0b101010\n",
            "octa    0o52\n",
            "hexa.   0x2a\n",
            "********************\n",
            "decimal 43\n",
            "binary  0b101011\n",
            "octa    0o53\n",
            "hexa.   0x2b\n",
            "********************\n",
            "decimal 44\n",
            "binary  0b101100\n",
            "octa    0o54\n",
            "hexa.   0x2c\n",
            "********************\n",
            "decimal 45\n",
            "binary  0b101101\n",
            "octa    0o55\n",
            "hexa.   0x2d\n",
            "********************\n",
            "decimal 46\n",
            "binary  0b101110\n",
            "octa    0o56\n",
            "hexa.   0x2e\n",
            "********************\n",
            "decimal 47\n",
            "binary  0b101111\n",
            "octa    0o57\n",
            "hexa.   0x2f\n",
            "********************\n",
            "decimal 48\n",
            "binary  0b110000\n",
            "octa    0o60\n",
            "hexa.   0x30\n",
            "********************\n",
            "decimal 49\n",
            "binary  0b110001\n",
            "octa    0o61\n",
            "hexa.   0x31\n",
            "********************\n"
          ]
        }
      ]
    },
    {
      "cell_type": "code",
      "source": [
        "for i in range(0,9):\n",
        "  print(i)\n"
      ],
      "metadata": {
        "colab": {
          "base_uri": "https://localhost:8080/"
        },
        "id": "NpRSFpGJu9W3",
        "outputId": "c7ffe995-488e-4f5a-d7ce-c190f88bd3a5"
      },
      "execution_count": 7,
      "outputs": [
        {
          "output_type": "stream",
          "name": "stdout",
          "text": [
            "0\n",
            "1\n",
            "2\n",
            "3\n",
            "4\n",
            "5\n",
            "6\n",
            "7\n",
            "8\n"
          ]
        }
      ]
    },
    {
      "cell_type": "code",
      "source": [
        "for i in range(0,20,2):\n",
        "  print(i)"
      ],
      "metadata": {
        "colab": {
          "base_uri": "https://localhost:8080/"
        },
        "id": "S1QQ7CzVwC9L",
        "outputId": "d9519287-2972-4a69-e118-338fc02572cb"
      },
      "execution_count": 8,
      "outputs": [
        {
          "output_type": "stream",
          "name": "stdout",
          "text": [
            "0\n",
            "2\n",
            "4\n",
            "6\n",
            "8\n",
            "10\n",
            "12\n",
            "14\n",
            "16\n",
            "18\n"
          ]
        }
      ]
    },
    {
      "cell_type": "code",
      "source": [
        "for i in range(12,121,12):\n",
        "  print(i)"
      ],
      "metadata": {
        "colab": {
          "base_uri": "https://localhost:8080/"
        },
        "id": "fpwj6d1XwIM3",
        "outputId": "6ee7ad81-c6a9-431f-81c7-fce27f6ebaf7"
      },
      "execution_count": 9,
      "outputs": [
        {
          "output_type": "stream",
          "name": "stdout",
          "text": [
            "12\n",
            "24\n",
            "36\n",
            "48\n",
            "60\n",
            "72\n",
            "84\n",
            "96\n",
            "108\n",
            "120\n"
          ]
        }
      ]
    },
    {
      "cell_type": "code",
      "source": [
        "for i in range(-120,0,12):\n",
        "  print(i)"
      ],
      "metadata": {
        "colab": {
          "base_uri": "https://localhost:8080/"
        },
        "id": "JHwxefkswNxp",
        "outputId": "86d89c3d-e98a-402e-a791-5353d7bae91a"
      },
      "execution_count": 10,
      "outputs": [
        {
          "output_type": "stream",
          "name": "stdout",
          "text": [
            "-120\n",
            "-108\n",
            "-96\n",
            "-84\n",
            "-72\n",
            "-60\n",
            "-48\n",
            "-36\n",
            "-24\n",
            "-12\n"
          ]
        }
      ]
    },
    {
      "cell_type": "code",
      "source": [
        "for i in range(0,10,2):\n",
        "  print(i)"
      ],
      "metadata": {
        "colab": {
          "base_uri": "https://localhost:8080/"
        },
        "id": "W3WpXbqMxv7D",
        "outputId": "7b19bf22-1d6e-43ef-9eb3-a1a822594a03"
      },
      "execution_count": 11,
      "outputs": [
        {
          "output_type": "stream",
          "name": "stdout",
          "text": [
            "0\n",
            "2\n",
            "4\n",
            "6\n",
            "8\n"
          ]
        }
      ]
    },
    {
      "cell_type": "code",
      "source": [
        "for i in range(10,101,10):\n",
        "  print(i)"
      ],
      "metadata": {
        "colab": {
          "base_uri": "https://localhost:8080/"
        },
        "id": "KHM9Pi70x1_E",
        "outputId": "3faf3fc5-5387-45ce-98b7-df596758acce"
      },
      "execution_count": 12,
      "outputs": [
        {
          "output_type": "stream",
          "name": "stdout",
          "text": [
            "10\n",
            "20\n",
            "30\n",
            "40\n",
            "50\n",
            "60\n",
            "70\n",
            "80\n",
            "90\n",
            "100\n"
          ]
        }
      ]
    },
    {
      "cell_type": "code",
      "source": [
        "for i in range(-1,-100,-2):\n",
        "  print(i)"
      ],
      "metadata": {
        "colab": {
          "base_uri": "https://localhost:8080/"
        },
        "id": "XhvlapS0x51r",
        "outputId": "04747d6b-0e49-4e0c-d646-7f9311fdc370"
      },
      "execution_count": 13,
      "outputs": [
        {
          "output_type": "stream",
          "name": "stdout",
          "text": [
            "-1\n",
            "-3\n",
            "-5\n",
            "-7\n",
            "-9\n",
            "-11\n",
            "-13\n",
            "-15\n",
            "-17\n",
            "-19\n",
            "-21\n",
            "-23\n",
            "-25\n",
            "-27\n",
            "-29\n",
            "-31\n",
            "-33\n",
            "-35\n",
            "-37\n",
            "-39\n",
            "-41\n",
            "-43\n",
            "-45\n",
            "-47\n",
            "-49\n",
            "-51\n",
            "-53\n",
            "-55\n",
            "-57\n",
            "-59\n",
            "-61\n",
            "-63\n",
            "-65\n",
            "-67\n",
            "-69\n",
            "-71\n",
            "-73\n",
            "-75\n",
            "-77\n",
            "-79\n",
            "-81\n",
            "-83\n",
            "-85\n",
            "-87\n",
            "-89\n",
            "-91\n",
            "-93\n",
            "-95\n",
            "-97\n",
            "-99\n"
          ]
        }
      ]
    },
    {
      "cell_type": "code",
      "source": [
        "for i in range(-19,-191,-19):\n",
        "  print(i)"
      ],
      "metadata": {
        "colab": {
          "base_uri": "https://localhost:8080/"
        },
        "id": "ZYKPmOldyDF9",
        "outputId": "d4887963-0e4e-4db0-a25b-15b38b3944a2"
      },
      "execution_count": 14,
      "outputs": [
        {
          "output_type": "stream",
          "name": "stdout",
          "text": [
            "-19\n",
            "-38\n",
            "-57\n",
            "-76\n",
            "-95\n",
            "-114\n",
            "-133\n",
            "-152\n",
            "-171\n",
            "-190\n"
          ]
        }
      ]
    },
    {
      "cell_type": "code",
      "source": [
        "for i in range(-220,-21,22):\n",
        "  print(i)"
      ],
      "metadata": {
        "colab": {
          "base_uri": "https://localhost:8080/"
        },
        "id": "jn5jmfgfyJWl",
        "outputId": "3ac65e7e-da08-4cf8-b522-739d6541c080"
      },
      "execution_count": 15,
      "outputs": [
        {
          "output_type": "stream",
          "name": "stdout",
          "text": [
            "-220\n",
            "-198\n",
            "-176\n",
            "-154\n",
            "-132\n",
            "-110\n",
            "-88\n",
            "-66\n",
            "-44\n",
            "-22\n"
          ]
        }
      ]
    },
    {
      "cell_type": "code",
      "source": [
        "for i in range(-50,-4,-5):\n",
        "  print(i)"
      ],
      "metadata": {
        "id": "JK4T4esuyR5N"
      },
      "execution_count": 17,
      "outputs": []
    }
  ]
}