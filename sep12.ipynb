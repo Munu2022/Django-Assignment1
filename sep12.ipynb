{
  "nbformat": 4,
  "nbformat_minor": 0,
  "metadata": {
    "colab": {
      "provenance": [],
      "authorship_tag": "ABX9TyPpkKl+OO/bzQtcf/dKU9sY",
      "include_colab_link": true
    },
    "kernelspec": {
      "name": "python3",
      "display_name": "Python 3"
    },
    "language_info": {
      "name": "python"
    }
  },
  "cells": [
    {
      "cell_type": "markdown",
      "metadata": {
        "id": "view-in-github",
        "colab_type": "text"
      },
      "source": [
        "<a href=\"https://colab.research.google.com/github/Munu2022/Django-Assignment1/blob/main/sep12.ipynb\" target=\"_parent\"><img src=\"https://colab.research.google.com/assets/colab-badge.svg\" alt=\"Open In Colab\"/></a>"
      ]
    },
    {
      "cell_type": "code",
      "execution_count": 2,
      "metadata": {
        "colab": {
          "base_uri": "https://localhost:8080/",
          "height": 35
        },
        "id": "KxcLzz0NJAFf",
        "outputId": "93a9cabd-9588-4f16-bf95-6b7874d60021"
      },
      "outputs": [
        {
          "output_type": "execute_result",
          "data": {
            "text/plain": [
              "'I am a Python Programer.'"
            ],
            "application/vnd.google.colaboratory.intrinsic+json": {
              "type": "string"
            }
          },
          "metadata": {},
          "execution_count": 2
        }
      ],
      "source": [
        "str1 = 'I am a Python Programer.'\n",
        "str1\n"
      ]
    },
    {
      "cell_type": "code",
      "source": [
        "str1[0]"
      ],
      "metadata": {
        "colab": {
          "base_uri": "https://localhost:8080/",
          "height": 35
        },
        "id": "hvDiDGTfKUsL",
        "outputId": "4901294e-5b0e-40d1-c2b6-c64b60210350"
      },
      "execution_count": 3,
      "outputs": [
        {
          "output_type": "execute_result",
          "data": {
            "text/plain": [
              "'I'"
            ],
            "application/vnd.google.colaboratory.intrinsic+json": {
              "type": "string"
            }
          },
          "metadata": {},
          "execution_count": 3
        }
      ]
    },
    {
      "cell_type": "code",
      "source": [
        "str1[5]"
      ],
      "metadata": {
        "colab": {
          "base_uri": "https://localhost:8080/",
          "height": 35
        },
        "id": "f3k3_QlJKeUD",
        "outputId": "c780f4ae-1152-4c9f-831a-b25ad81d7989"
      },
      "execution_count": 4,
      "outputs": [
        {
          "output_type": "execute_result",
          "data": {
            "text/plain": [
              "'a'"
            ],
            "application/vnd.google.colaboratory.intrinsic+json": {
              "type": "string"
            }
          },
          "metadata": {},
          "execution_count": 4
        }
      ]
    },
    {
      "cell_type": "code",
      "source": [
        "str2 = 'Twinkle twinkle litte star'\n",
        "str2[1],str2[2],str2[3],str2[4],str2[5],str2[6],str2[7],str2[8],str2[9\n",
        "                                                                  ],"
      ],
      "metadata": {
        "colab": {
          "base_uri": "https://localhost:8080/"
        },
        "id": "I284065NLm8e",
        "outputId": "1f378430-77cf-4e7e-8148-d1740ac3a7b2"
      },
      "execution_count": 5,
      "outputs": [
        {
          "output_type": "execute_result",
          "data": {
            "text/plain": [
              "('w', 'i', 'n', 'k', 'l', 'e', ' ', 't', 'w')"
            ]
          },
          "metadata": {},
          "execution_count": 5
        }
      ]
    },
    {
      "cell_type": "code",
      "source": [
        "len(str2)"
      ],
      "metadata": {
        "colab": {
          "base_uri": "https://localhost:8080/"
        },
        "id": "nVgCLN2dM_SI",
        "outputId": "2a880d35-2ede-4bed-a24d-35731605bdbc"
      },
      "execution_count": 6,
      "outputs": [
        {
          "output_type": "execute_result",
          "data": {
            "text/plain": [
              "26"
            ]
          },
          "metadata": {},
          "execution_count": 6
        }
      ]
    },
    {
      "cell_type": "code",
      "source": [
        "list1 =['pa','da','pum','dum','mum']\n",
        "print(list1[0])\n",
        "print(list1[1])\n",
        "print(list1[2])\n",
        "print(list1[3])"
      ],
      "metadata": {
        "colab": {
          "base_uri": "https://localhost:8080/"
        },
        "id": "cJ0VNdhhOnxn",
        "outputId": "554c4b96-cc77-45b6-b6a0-beeee30c3637"
      },
      "execution_count": 10,
      "outputs": [
        {
          "output_type": "stream",
          "name": "stdout",
          "text": [
            "pa\n",
            "da\n",
            "pum\n",
            "dum\n"
          ]
        }
      ]
    },
    {
      "cell_type": "code",
      "source": [
        "tup1 =('pa','da','pum','dum','mum')\n",
        "print(tup1[0])\n",
        "print(tup1[1])\n",
        "print(tup1[2])\n",
        "print(tup1[3])"
      ],
      "metadata": {
        "colab": {
          "base_uri": "https://localhost:8080/"
        },
        "id": "vX-qwPjNPwTA",
        "outputId": "1485812d-ef5a-425f-fddd-1f2b5f689b7c"
      },
      "execution_count": 11,
      "outputs": [
        {
          "output_type": "stream",
          "name": "stdout",
          "text": [
            "pa\n",
            "da\n",
            "pum\n",
            "dum\n"
          ]
        }
      ]
    },
    {
      "cell_type": "code",
      "source": [
        "set1 ={'pa','da','pum','dum','mum'}\n",
        "print(set1[0])\n"
      ],
      "metadata": {
        "colab": {
          "base_uri": "https://localhost:8080/",
          "height": 187
        },
        "id": "BV_WVMRjQNX9",
        "outputId": "49f6c3a6-3a57-4105-b3e3-9ca1ff4afa28"
      },
      "execution_count": 12,
      "outputs": [
        {
          "output_type": "error",
          "ename": "TypeError",
          "evalue": "ignored",
          "traceback": [
            "\u001b[0;31m---------------------------------------------------------------------------\u001b[0m",
            "\u001b[0;31mTypeError\u001b[0m                                 Traceback (most recent call last)",
            "\u001b[0;32m<ipython-input-12-67e6032c3678>\u001b[0m in \u001b[0;36m<module>\u001b[0;34m\u001b[0m\n\u001b[1;32m      1\u001b[0m \u001b[0mset1\u001b[0m \u001b[0;34m=\u001b[0m\u001b[0;34m{\u001b[0m\u001b[0;34m'pa'\u001b[0m\u001b[0;34m,\u001b[0m\u001b[0;34m'da'\u001b[0m\u001b[0;34m,\u001b[0m\u001b[0;34m'pum'\u001b[0m\u001b[0;34m,\u001b[0m\u001b[0;34m'dum'\u001b[0m\u001b[0;34m,\u001b[0m\u001b[0;34m'mum'\u001b[0m\u001b[0;34m}\u001b[0m\u001b[0;34m\u001b[0m\u001b[0;34m\u001b[0m\u001b[0m\n\u001b[0;32m----> 2\u001b[0;31m \u001b[0mprint\u001b[0m\u001b[0;34m(\u001b[0m\u001b[0mset1\u001b[0m\u001b[0;34m[\u001b[0m\u001b[0;36m0\u001b[0m\u001b[0;34m]\u001b[0m\u001b[0;34m)\u001b[0m\u001b[0;34m\u001b[0m\u001b[0;34m\u001b[0m\u001b[0m\n\u001b[0m",
            "\u001b[0;31mTypeError\u001b[0m: 'set' object is not subscriptable"
          ]
        }
      ]
    },
    {
      "cell_type": "code",
      "source": [
        "dict1 = {'a':'apple','b':'banana','c':'cheery'}\n",
        "dict1['b']"
      ],
      "metadata": {
        "colab": {
          "base_uri": "https://localhost:8080/",
          "height": 35
        },
        "id": "Krg16rAxQqHU",
        "outputId": "ee7535ab-ee9d-48b4-8744-f6e9e093fb16"
      },
      "execution_count": 13,
      "outputs": [
        {
          "output_type": "execute_result",
          "data": {
            "text/plain": [
              "'banana'"
            ],
            "application/vnd.google.colaboratory.intrinsic+json": {
              "type": "string"
            }
          },
          "metadata": {},
          "execution_count": 13
        }
      ]
    },
    {
      "cell_type": "code",
      "source": [
        "value.dict1['apple']"
      ],
      "metadata": {
        "colab": {
          "base_uri": "https://localhost:8080/",
          "height": 169
        },
        "id": "NnTO5AZ1RHLO",
        "outputId": "549da27c-09eb-4ce4-aa1a-e11249d88f7d"
      },
      "execution_count": 16,
      "outputs": [
        {
          "output_type": "error",
          "ename": "NameError",
          "evalue": "ignored",
          "traceback": [
            "\u001b[0;31m---------------------------------------------------------------------------\u001b[0m",
            "\u001b[0;31mNameError\u001b[0m                                 Traceback (most recent call last)",
            "\u001b[0;32m<ipython-input-16-85c225696822>\u001b[0m in \u001b[0;36m<module>\u001b[0;34m\u001b[0m\n\u001b[0;32m----> 1\u001b[0;31m \u001b[0mvalue\u001b[0m\u001b[0;34m.\u001b[0m\u001b[0mdict1\u001b[0m\u001b[0;34m[\u001b[0m\u001b[0;34m'apple'\u001b[0m\u001b[0;34m]\u001b[0m\u001b[0;34m\u001b[0m\u001b[0;34m\u001b[0m\u001b[0m\n\u001b[0m",
            "\u001b[0;31mNameError\u001b[0m: name 'value' is not defined"
          ]
        }
      ]
    },
    {
      "cell_type": "markdown",
      "source": [
        "Slicing"
      ],
      "metadata": {
        "id": "BjWffmgGRmBK"
      }
    },
    {
      "cell_type": "code",
      "source": [
        "str1 = 'I am a Python Programer.'\n",
        "print(str1[2:4])\n",
        "print(str1[7:13])"
      ],
      "metadata": {
        "colab": {
          "base_uri": "https://localhost:8080/"
        },
        "id": "QddiIPJNRbe9",
        "outputId": "623860f0-eda7-4eba-cc8d-ea9b487650a5"
      },
      "execution_count": 19,
      "outputs": [
        {
          "output_type": "stream",
          "name": "stdout",
          "text": [
            "am\n",
            "Python\n"
          ]
        }
      ]
    },
    {
      "cell_type": "code",
      "source": [
        "list1 =['pa','da','pum','dum','mum']\n",
        "list1[0:4]"
      ],
      "metadata": {
        "colab": {
          "base_uri": "https://localhost:8080/"
        },
        "id": "GDnzw-4TT11I",
        "outputId": "687dcc77-e086-41e7-875f-91a498aacc97"
      },
      "execution_count": 20,
      "outputs": [
        {
          "output_type": "execute_result",
          "data": {
            "text/plain": [
              "['pa', 'da', 'pum', 'dum']"
            ]
          },
          "metadata": {},
          "execution_count": 20
        }
      ]
    },
    {
      "cell_type": "code",
      "source": [
        "list1[2:-1]\n"
      ],
      "metadata": {
        "colab": {
          "base_uri": "https://localhost:8080/"
        },
        "id": "z0m9N4ijT9LL",
        "outputId": "95025e9d-8f67-43a2-a849-a1e7862666f7"
      },
      "execution_count": 21,
      "outputs": [
        {
          "output_type": "execute_result",
          "data": {
            "text/plain": [
              "['pum', 'dum']"
            ]
          },
          "metadata": {},
          "execution_count": 21
        }
      ]
    },
    {
      "cell_type": "code",
      "source": [
        "list1[:]"
      ],
      "metadata": {
        "colab": {
          "base_uri": "https://localhost:8080/"
        },
        "id": "oMwFtGhYUbEu",
        "outputId": "9f18cc76-9daf-43f7-bef6-d3bd29860e99"
      },
      "execution_count": 23,
      "outputs": [
        {
          "output_type": "execute_result",
          "data": {
            "text/plain": [
              "['pa', 'da', 'pum', 'dum', 'mum']"
            ]
          },
          "metadata": {},
          "execution_count": 23
        }
      ]
    },
    {
      "cell_type": "code",
      "source": [],
      "metadata": {
        "id": "rXT1slX0VbE8"
      },
      "execution_count": null,
      "outputs": []
    },
    {
      "cell_type": "code",
      "source": [
        "print(list1[::])"
      ],
      "metadata": {
        "colab": {
          "base_uri": "https://localhost:8080/"
        },
        "id": "V55BPzJkVVkp",
        "outputId": "c106bf8e-3717-4e9c-9164-c891f2d2d7ad"
      },
      "execution_count": 24,
      "outputs": [
        {
          "output_type": "stream",
          "name": "stdout",
          "text": [
            "['pa', 'da', 'pum', 'dum', 'mum']\n"
          ]
        }
      ]
    },
    {
      "cell_type": "code",
      "source": [
        "print(list1[::1])"
      ],
      "metadata": {
        "colab": {
          "base_uri": "https://localhost:8080/"
        },
        "id": "CrNMMuRdVt_n",
        "outputId": "4507bf90-35f6-4810-e16d-58ab78ee938c"
      },
      "execution_count": 25,
      "outputs": [
        {
          "output_type": "stream",
          "name": "stdout",
          "text": [
            "['pa', 'da', 'pum', 'dum', 'mum']\n"
          ]
        }
      ]
    },
    {
      "cell_type": "code",
      "source": [
        "print(list1[::2])"
      ],
      "metadata": {
        "colab": {
          "base_uri": "https://localhost:8080/"
        },
        "id": "BGYtihAaV2oO",
        "outputId": "99d2df57-4e07-4f4d-a41b-ab28c9f0df94"
      },
      "execution_count": 26,
      "outputs": [
        {
          "output_type": "stream",
          "name": "stdout",
          "text": [
            "['pa', 'pum', 'mum']\n"
          ]
        }
      ]
    },
    {
      "cell_type": "markdown",
      "source": [
        "[::2] skips every secong  value"
      ],
      "metadata": {
        "id": "VnZs6qPfV8hN"
      }
    },
    {
      "cell_type": "code",
      "source": [
        "print(list1[::-1])"
      ],
      "metadata": {
        "colab": {
          "base_uri": "https://localhost:8080/"
        },
        "id": "5haMJ4ybWMiD",
        "outputId": "66bc27f4-f704-4049-aeb9-71c3c882d140"
      },
      "execution_count": 27,
      "outputs": [
        {
          "output_type": "stream",
          "name": "stdout",
          "text": [
            "['mum', 'dum', 'pum', 'da', 'pa']\n"
          ]
        }
      ]
    },
    {
      "cell_type": "markdown",
      "source": [
        "sclicing from back"
      ],
      "metadata": {
        "id": "RIL31to-WTHH"
      }
    },
    {
      "cell_type": "code",
      "source": [],
      "metadata": {
        "id": "lClIr-4dWYqk"
      },
      "execution_count": null,
      "outputs": []
    },
    {
      "cell_type": "markdown",
      "source": [
        "1. default value 1st element is always zero (smallest valur)\n",
        "2.  default value 2nd element is position of last element (largest value)\n",
        "3.  default value 3rd element is always 1 (desctbe direction with + or - )\n",
        "4. Elements  2 and 3 follow ruke of n-1\n",
        "5. when default values is positive it will print left to right, if negative  it will print right to left."
      ],
      "metadata": {
        "id": "3I4cNVLuWsJs"
      }
    },
    {
      "cell_type": "code",
      "source": [
        "list1[-1:-6:-2]"
      ],
      "metadata": {
        "colab": {
          "base_uri": "https://localhost:8080/"
        },
        "id": "jxqvI74VYXAb",
        "outputId": "8068bb5d-c3f9-4d95-fdde-8cfac71df2bc"
      },
      "execution_count": 32,
      "outputs": [
        {
          "output_type": "execute_result",
          "data": {
            "text/plain": [
              "['mum', 'pum', 'pa']"
            ]
          },
          "metadata": {},
          "execution_count": 32
        }
      ]
    }
  ]
}