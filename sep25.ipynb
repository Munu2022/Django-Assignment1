{
  "nbformat": 4,
  "nbformat_minor": 0,
  "metadata": {
    "colab": {
      "provenance": [],
      "authorship_tag": "ABX9TyNQWfYrg1sxVYgCAqbp8B4G",
      "include_colab_link": true
    },
    "kernelspec": {
      "name": "python3",
      "display_name": "Python 3"
    },
    "language_info": {
      "name": "python"
    }
  },
  "cells": [
    {
      "cell_type": "markdown",
      "metadata": {
        "id": "view-in-github",
        "colab_type": "text"
      },
      "source": [
        "<a href=\"https://colab.research.google.com/github/Munu2022/Django-Assignment1/blob/main/sep25.ipynb\" target=\"_parent\"><img src=\"https://colab.research.google.com/assets/colab-badge.svg\" alt=\"Open In Colab\"/></a>"
      ]
    },
    {
      "cell_type": "code",
      "execution_count": null,
      "metadata": {
        "id": "FWlEMjWLGVC-"
      },
      "outputs": [],
      "source": []
    },
    {
      "cell_type": "markdown",
      "source": [
        "**Python excepation handling**\n",
        "1. **complie time error**: error while writing code.\n",
        "2. **Logical error:** Gives output but it is not the expected one.Maybe due to missing funtion. Getting wrong output.\n",
        "3. **Run time error:** user is making the mistake. wrong error is given.\n"
      ],
      "metadata": {
        "id": "q8Uz2cdPGjqQ"
      }
    },
    {
      "cell_type": "markdown",
      "source": [
        "**Types of Exeption for Run time error⁉**\n",
        "1. Zerodivisionerror\n",
        "2. ModuleNotFound\n",
        "3. exeption(it is for all general error)"
      ],
      "metadata": {
        "id": "EYPF70WXShVr"
      }
    },
    {
      "cell_type": "code",
      "source": [
        "for i range (0,10)\n",
        "  print (i)"
      ],
      "metadata": {
        "colab": {
          "base_uri": "https://localhost:8080/",
          "height": 133
        },
        "id": "j3gH9vpLGqzz",
        "outputId": "98068c15-d015-4431-eab6-7936c1bc87b9"
      },
      "execution_count": 2,
      "outputs": [
        {
          "output_type": "error",
          "ename": "SyntaxError",
          "evalue": "ignored",
          "traceback": [
            "\u001b[0;36m  File \u001b[0;32m\"<ipython-input-2-89b93437461c>\"\u001b[0;36m, line \u001b[0;32m1\u001b[0m\n\u001b[0;31m    for i range (0,10)\u001b[0m\n\u001b[0m              ^\u001b[0m\n\u001b[0;31mSyntaxError\u001b[0m\u001b[0;31m:\u001b[0m invalid syntax\n"
          ]
        }
      ]
    },
    {
      "cell_type": "code",
      "source": [
        "a = input('enter a number:')\n",
        "print(type(a))# any data type we input using 'input' without respective funtion is taken as string. "
      ],
      "metadata": {
        "colab": {
          "base_uri": "https://localhost:8080/"
        },
        "id": "_6BRIZfdJ2CW",
        "outputId": "5f1365b1-03e2-4d04-ebd0-212fdcd62566"
      },
      "execution_count": 4,
      "outputs": [
        {
          "output_type": "stream",
          "name": "stdout",
          "text": [
            "enter a number:12\n",
            "<class 'str'>\n"
          ]
        }
      ]
    },
    {
      "cell_type": "code",
      "source": [
        "a = int(input('enter a number:'))\n",
        "print(a)\n",
        "print(type(a))"
      ],
      "metadata": {
        "colab": {
          "base_uri": "https://localhost:8080/"
        },
        "id": "1-bx-6qdKikE",
        "outputId": "4d968089-e454-4553-ce84-06b79028af07"
      },
      "execution_count": 5,
      "outputs": [
        {
          "output_type": "stream",
          "name": "stdout",
          "text": [
            "enter a number:12\n",
            "12\n",
            "<class 'int'>\n"
          ]
        }
      ]
    },
    {
      "cell_type": "code",
      "source": [
        "principal= float(input('enter the principal amount'))\n",
        "rate = float(input('enter interest rate:'))\n",
        "time = float(input('borrow time:'))\n",
        "si = (principal*rate*time)/100\n",
        "rate\n",
        "\n",
        "print(si,'is simple interest paid on:',principal,'at',rate,'% for', time)"
      ],
      "metadata": {
        "colab": {
          "base_uri": "https://localhost:8080/"
        },
        "id": "SCr8V_7oLXgW",
        "outputId": "fe8962df-72f7-4f61-84dd-54a0d32ff085"
      },
      "execution_count": 6,
      "outputs": [
        {
          "output_type": "stream",
          "name": "stdout",
          "text": [
            "enter the principal amount100000\n",
            "enter interest rate:5\n",
            "borrow time:10\n",
            "50000.0 is simple interest paid on: 100000.0 at 5.0 % for 10.0\n"
          ]
        }
      ]
    },
    {
      "cell_type": "code",
      "source": [],
      "metadata": {
        "id": "0BdTW_7cPTJf"
      },
      "execution_count": null,
      "outputs": []
    },
    {
      "cell_type": "code",
      "source": [
        "principal= float(input('enter the principal amount'))\n",
        "si = float(input('enter simple interest:'))\n",
        "time = float(input('borrow time:'))\n",
        "try:\n",
        "  rate = (si/100)/(principal*time)\n",
        "except ZeroDivisionError as zde:\n",
        "  print('Zerodivisionerror:',zde)\n",
        "print(rate)"
      ],
      "metadata": {
        "colab": {
          "base_uri": "https://localhost:8080/"
        },
        "id": "U8X1zDsRPW-P",
        "outputId": "3dcd7f78-1230-4391-8c06-a30513487ac7"
      },
      "execution_count": 9,
      "outputs": [
        {
          "output_type": "stream",
          "name": "stdout",
          "text": [
            "enter the principal amount0\n",
            "enter simple interest:53534\n",
            "borrow time:8686\n",
            "Zerodivisionerror: float division by zero\n",
            "6.9908745169574815e-06\n"
          ]
        }
      ]
    },
    {
      "cell_type": "code",
      "source": [
        "import crystal \n",
        "\n",
        "print('I am importing Crystal Library')"
      ],
      "metadata": {
        "colab": {
          "base_uri": "https://localhost:8080/"
        },
        "id": "vUJBaj2CPwHl",
        "outputId": "b4d24ccf-5631-454f-a774-5727e78513d3"
      },
      "execution_count": 12,
      "outputs": [
        {
          "output_type": "stream",
          "name": "stdout",
          "text": [
            "I am importing Crystal Library\n"
          ]
        }
      ]
    },
    {
      "cell_type": "code",
      "source": [
        "! pip install crystal"
      ],
      "metadata": {
        "colab": {
          "base_uri": "https://localhost:8080/"
        },
        "id": "nTFp1rzNQ9xp",
        "outputId": "08624598-2584-478f-cf55-30242f3fcb0e"
      },
      "execution_count": 11,
      "outputs": [
        {
          "output_type": "stream",
          "name": "stdout",
          "text": [
            "Looking in indexes: https://pypi.org/simple, https://us-python.pkg.dev/colab-wheels/public/simple/\n",
            "Collecting crystal\n",
            "  Downloading crystal-0.1.0-py3-none-any.whl (2.1 MB)\n",
            "\u001b[K     |████████████████████████████████| 2.1 MB 15.2 MB/s \n",
            "\u001b[?25hCollecting Flask==1.0.2\n",
            "  Downloading Flask-1.0.2-py2.py3-none-any.whl (91 kB)\n",
            "\u001b[K     |████████████████████████████████| 91 kB 11.1 MB/s \n",
            "\u001b[?25hRequirement already satisfied: numpy in /usr/local/lib/python3.7/dist-packages (from crystal) (1.21.6)\n",
            "Requirement already satisfied: Jinja2>=2.10 in /usr/local/lib/python3.7/dist-packages (from Flask==1.0.2->crystal) (2.11.3)\n",
            "Requirement already satisfied: Werkzeug>=0.14 in /usr/local/lib/python3.7/dist-packages (from Flask==1.0.2->crystal) (1.0.1)\n",
            "Requirement already satisfied: itsdangerous>=0.24 in /usr/local/lib/python3.7/dist-packages (from Flask==1.0.2->crystal) (1.1.0)\n",
            "Requirement already satisfied: click>=5.1 in /usr/local/lib/python3.7/dist-packages (from Flask==1.0.2->crystal) (7.1.2)\n",
            "Requirement already satisfied: MarkupSafe>=0.23 in /usr/local/lib/python3.7/dist-packages (from Jinja2>=2.10->Flask==1.0.2->crystal) (2.0.1)\n",
            "Installing collected packages: Flask, crystal\n",
            "  Attempting uninstall: Flask\n",
            "    Found existing installation: Flask 1.1.4\n",
            "    Uninstalling Flask-1.1.4:\n",
            "      Successfully uninstalled Flask-1.1.4\n",
            "Successfully installed Flask-1.0.2 crystal-0.1.0\n"
          ]
        }
      ]
    },
    {
      "cell_type": "code",
      "source": [
        "import Kristal #module not found\n",
        "\n",
        "print('I am importing Crystal Library')"
      ],
      "metadata": {
        "colab": {
          "base_uri": "https://localhost:8080/",
          "height": 347
        },
        "id": "CPfw4EoTRLPz",
        "outputId": "9ad62f71-9723-46f7-a8df-ccfeaad30887"
      },
      "execution_count": 13,
      "outputs": [
        {
          "output_type": "error",
          "ename": "ModuleNotFoundError",
          "evalue": "ignored",
          "traceback": [
            "\u001b[0;31m---------------------------------------------------------------------------\u001b[0m",
            "\u001b[0;31mModuleNotFoundError\u001b[0m                       Traceback (most recent call last)",
            "\u001b[0;32m<ipython-input-13-deb2115c0f24>\u001b[0m in \u001b[0;36m<module>\u001b[0;34m\u001b[0m\n\u001b[0;32m----> 1\u001b[0;31m \u001b[0;32mimport\u001b[0m \u001b[0mKristal\u001b[0m\u001b[0;34m\u001b[0m\u001b[0;34m\u001b[0m\u001b[0m\n\u001b[0m\u001b[1;32m      2\u001b[0m \u001b[0;34m\u001b[0m\u001b[0m\n\u001b[1;32m      3\u001b[0m \u001b[0mprint\u001b[0m\u001b[0;34m(\u001b[0m\u001b[0;34m'I am importing Crystal Library'\u001b[0m\u001b[0;34m)\u001b[0m\u001b[0;34m\u001b[0m\u001b[0;34m\u001b[0m\u001b[0m\n",
            "\u001b[0;31mModuleNotFoundError\u001b[0m: No module named 'Kristal'",
            "",
            "\u001b[0;31m---------------------------------------------------------------------------\u001b[0;32m\nNOTE: If your import is failing due to a missing package, you can\nmanually install dependencies using either !pip or !apt.\n\nTo view examples of installing some common dependencies, click the\n\"Open Examples\" button below.\n\u001b[0;31m---------------------------------------------------------------------------\u001b[0m\n"
          ],
          "errorDetails": {
            "actions": [
              {
                "action": "open_url",
                "actionText": "Open Examples",
                "url": "/notebooks/snippets/importing_libraries.ipynb"
              }
            ]
          }
        }
      ]
    },
    {
      "cell_type": "code",
      "source": [
        "!pip install kristal"
      ],
      "metadata": {
        "colab": {
          "base_uri": "https://localhost:8080/"
        },
        "id": "SLr02gg8RXQS",
        "outputId": "b462dc3d-75d1-4a3a-ec8f-73eb49b16f0f"
      },
      "execution_count": 15,
      "outputs": [
        {
          "output_type": "stream",
          "name": "stdout",
          "text": [
            "Looking in indexes: https://pypi.org/simple, https://us-python.pkg.dev/colab-wheels/public/simple/\n",
            "\u001b[31mERROR: Could not find a version that satisfies the requirement kristal (from versions: none)\u001b[0m\n",
            "\u001b[31mERROR: No matching distribution found for kristal\u001b[0m\n"
          ]
        }
      ]
    },
    {
      "cell_type": "code",
      "source": [
        "try:\n",
        "  import kristal\n",
        "except ModuleNotFoundError as mnfe:\n",
        "  print('ModuleNotFoundError', mnfe)"
      ],
      "metadata": {
        "colab": {
          "base_uri": "https://localhost:8080/"
        },
        "id": "zPWe2SVWRnjA",
        "outputId": "9752c568-4352-4dbf-82b7-70213475eb5e"
      },
      "execution_count": 16,
      "outputs": [
        {
          "output_type": "stream",
          "name": "stdout",
          "text": [
            "ModuleNotFoundError No module named 'kristal'\n"
          ]
        }
      ]
    },
    {
      "cell_type": "code",
      "source": [
        "lst = [1,2,3,4,5,6,7,8,9,0]\n",
        "for i in range (0,20):\n",
        "  print(lst[i],end='')"
      ],
      "metadata": {
        "colab": {
          "base_uri": "https://localhost:8080/",
          "height": 222
        },
        "id": "pOMMdDNLTlHp",
        "outputId": "359ffeea-1e8a-419b-bd8f-35987fc66d95"
      },
      "execution_count": 21,
      "outputs": [
        {
          "output_type": "stream",
          "name": "stdout",
          "text": [
            "1234567890"
          ]
        },
        {
          "output_type": "error",
          "ename": "IndexError",
          "evalue": "ignored",
          "traceback": [
            "\u001b[0;31m---------------------------------------------------------------------------\u001b[0m",
            "\u001b[0;31mIndexError\u001b[0m                                Traceback (most recent call last)",
            "\u001b[0;32m<ipython-input-21-6e24aeb5caf5>\u001b[0m in \u001b[0;36m<module>\u001b[0;34m\u001b[0m\n\u001b[1;32m      1\u001b[0m \u001b[0mlst\u001b[0m \u001b[0;34m=\u001b[0m \u001b[0;34m[\u001b[0m\u001b[0;36m1\u001b[0m\u001b[0;34m,\u001b[0m\u001b[0;36m2\u001b[0m\u001b[0;34m,\u001b[0m\u001b[0;36m3\u001b[0m\u001b[0;34m,\u001b[0m\u001b[0;36m4\u001b[0m\u001b[0;34m,\u001b[0m\u001b[0;36m5\u001b[0m\u001b[0;34m,\u001b[0m\u001b[0;36m6\u001b[0m\u001b[0;34m,\u001b[0m\u001b[0;36m7\u001b[0m\u001b[0;34m,\u001b[0m\u001b[0;36m8\u001b[0m\u001b[0;34m,\u001b[0m\u001b[0;36m9\u001b[0m\u001b[0;34m,\u001b[0m\u001b[0;36m0\u001b[0m\u001b[0;34m]\u001b[0m\u001b[0;34m\u001b[0m\u001b[0;34m\u001b[0m\u001b[0m\n\u001b[1;32m      2\u001b[0m \u001b[0;32mfor\u001b[0m \u001b[0mi\u001b[0m \u001b[0;32min\u001b[0m \u001b[0mrange\u001b[0m \u001b[0;34m(\u001b[0m\u001b[0;36m0\u001b[0m\u001b[0;34m,\u001b[0m\u001b[0;36m20\u001b[0m\u001b[0;34m)\u001b[0m\u001b[0;34m:\u001b[0m\u001b[0;34m\u001b[0m\u001b[0;34m\u001b[0m\u001b[0m\n\u001b[0;32m----> 3\u001b[0;31m   \u001b[0mprint\u001b[0m\u001b[0;34m(\u001b[0m\u001b[0mlst\u001b[0m\u001b[0;34m[\u001b[0m\u001b[0mi\u001b[0m\u001b[0;34m]\u001b[0m\u001b[0;34m,\u001b[0m\u001b[0mend\u001b[0m\u001b[0;34m=\u001b[0m\u001b[0;34m''\u001b[0m\u001b[0;34m)\u001b[0m\u001b[0;34m\u001b[0m\u001b[0;34m\u001b[0m\u001b[0m\n\u001b[0m",
            "\u001b[0;31mIndexError\u001b[0m: list index out of range"
          ]
        }
      ]
    },
    {
      "cell_type": "code",
      "source": [
        "from ast import Index\n",
        "lst = [1,2,3,4,5,6,7,8,9,0]\n",
        "try:\n",
        "  for i in range (0,20):\n",
        "    print(lst[i],end='')\n",
        "except IndexError as ide:\n",
        "  print('IndexError',ide)"
      ],
      "metadata": {
        "colab": {
          "base_uri": "https://localhost:8080/"
        },
        "id": "MBAdLp6HUbAz",
        "outputId": "4c487993-04c4-43af-bd0b-ac7999dfc3d1"
      },
      "execution_count": 22,
      "outputs": [
        {
          "output_type": "stream",
          "name": "stdout",
          "text": [
            "1234567890IndexError list index out of range\n"
          ]
        }
      ]
    },
    {
      "cell_type": "code",
      "source": [
        "lst =[1,2,3,4,5,6,7,8,9]\n",
        "lst.append(10)\n",
        "print(lst)"
      ],
      "metadata": {
        "colab": {
          "base_uri": "https://localhost:8080/"
        },
        "id": "PjdQ21E7UvD4",
        "outputId": "f6b75006-85fa-4743-ed9d-a902caca7da1"
      },
      "execution_count": 23,
      "outputs": [
        {
          "output_type": "stream",
          "name": "stdout",
          "text": [
            "[1, 2, 3, 4, 5, 6, 7, 8, 9, 10]\n"
          ]
        }
      ]
    },
    {
      "cell_type": "code",
      "source": [
        "tup1= (1,2,3,4,5,6,7,8,9)\n",
        "try:\n",
        "  tup1.append(10)\n",
        "  print(tup1)\n",
        "except AttributeError as abe:\n",
        "  print ('AttributeError',abe)"
      ],
      "metadata": {
        "colab": {
          "base_uri": "https://localhost:8080/"
        },
        "id": "WTdyyn91U7WI",
        "outputId": "3d1ea1c6-6acd-49d6-ab21-f268bd67848d"
      },
      "execution_count": 25,
      "outputs": [
        {
          "output_type": "stream",
          "name": "stdout",
          "text": [
            "AttributeError 'tuple' object has no attribute 'append'\n"
          ]
        }
      ]
    },
    {
      "cell_type": "code",
      "source": [
        "num1 = int(input('Enter a number'))\n",
        "divi = int(input('Enter dividend'))\n",
        "try: \n",
        "  div_ze = num1/divi\n",
        "  print(div_ze)\n",
        "except Exception as ex:\n",
        "  print('exception:',ex)\n"
      ],
      "metadata": {
        "colab": {
          "base_uri": "https://localhost:8080/"
        },
        "id": "_Gy44QY1V4DU",
        "outputId": "82da831d-b81b-4a44-8187-74fd5e9728c2"
      },
      "execution_count": 32,
      "outputs": [
        {
          "output_type": "stream",
          "name": "stdout",
          "text": [
            "Enter a number12\n",
            "Enter dividend0\n",
            "exception: division by zero\n"
          ]
        }
      ]
    },
    {
      "cell_type": "code",
      "source": [
        "for i in range (0,10):\n",
        "  print(i, end=' ')\n",
        "  if (i == 5):\n",
        "    break"
      ],
      "metadata": {
        "colab": {
          "base_uri": "https://localhost:8080/"
        },
        "id": "mZo63Wy0XyuN",
        "outputId": "14f135e3-ab99-412d-d007-69db2f6170de"
      },
      "execution_count": 36,
      "outputs": [
        {
          "output_type": "stream",
          "name": "stdout",
          "text": [
            "0 1 2 3 4 5 "
          ]
        }
      ]
    },
    {
      "cell_type": "code",
      "source": [
        "#complitime error in general shouildnot be handleded with exception errors.\n",
        "try:\n",
        "  for i in range (0,10):\n",
        "  print(i, end=' ')\n",
        "  if (i == 5):\n",
        "    break\n",
        "  except IndentationError as ie:\n",
        "    print('IndentationError',ie)"
      ],
      "metadata": {
        "colab": {
          "base_uri": "https://localhost:8080/",
          "height": 133
        },
        "id": "oabQ_1QmYpTt",
        "outputId": "788089cc-8963-4e78-b308-937ffcac72b5"
      },
      "execution_count": 37,
      "outputs": [
        {
          "output_type": "error",
          "ename": "IndentationError",
          "evalue": "ignored",
          "traceback": [
            "\u001b[0;36m  File \u001b[0;32m\"<ipython-input-37-e2bdecdf6cc9>\"\u001b[0;36m, line \u001b[0;32m3\u001b[0m\n\u001b[0;31m    print(i, end=' ')\u001b[0m\n\u001b[0m        ^\u001b[0m\n\u001b[0;31mIndentationError\u001b[0m\u001b[0;31m:\u001b[0m expected an indented block\n"
          ]
        }
      ]
    },
    {
      "cell_type": "code",
      "source": [
        "val = 'Python '\n",
        "va2 = 2022\n",
        "va3 = \"Programmers \"\n",
        "\n",
        "print(val+va2+va3)"
      ],
      "metadata": {
        "colab": {
          "base_uri": "https://localhost:8080/",
          "height": 204
        },
        "id": "1wwAlh5kZDo0",
        "outputId": "e0ca5811-fab1-4999-d058-dfc6c7f5d1c1"
      },
      "execution_count": 38,
      "outputs": [
        {
          "output_type": "error",
          "ename": "TypeError",
          "evalue": "ignored",
          "traceback": [
            "\u001b[0;31m---------------------------------------------------------------------------\u001b[0m",
            "\u001b[0;31mTypeError\u001b[0m                                 Traceback (most recent call last)",
            "\u001b[0;32m<ipython-input-38-66fad6da6d27>\u001b[0m in \u001b[0;36m<module>\u001b[0;34m\u001b[0m\n\u001b[1;32m      3\u001b[0m \u001b[0mva3\u001b[0m \u001b[0;34m=\u001b[0m \u001b[0;34m\"Programmers \"\u001b[0m\u001b[0;34m\u001b[0m\u001b[0;34m\u001b[0m\u001b[0m\n\u001b[1;32m      4\u001b[0m \u001b[0;34m\u001b[0m\u001b[0m\n\u001b[0;32m----> 5\u001b[0;31m \u001b[0mprint\u001b[0m\u001b[0;34m(\u001b[0m\u001b[0mval\u001b[0m\u001b[0;34m+\u001b[0m\u001b[0mva2\u001b[0m\u001b[0;34m+\u001b[0m\u001b[0mva3\u001b[0m\u001b[0;34m)\u001b[0m\u001b[0;34m\u001b[0m\u001b[0;34m\u001b[0m\u001b[0m\n\u001b[0m",
            "\u001b[0;31mTypeError\u001b[0m: can only concatenate str (not \"int\") to str"
          ]
        }
      ]
    },
    {
      "cell_type": "code",
      "source": [
        "val = 'Python '\n",
        "va2 = 2022\n",
        "va3 = \"Programmers \"\n",
        "try:\n",
        "  print(val+va2+va3)\n",
        "except TypeError as te:\n",
        "  print('TypeError',te)\n"
      ],
      "metadata": {
        "colab": {
          "base_uri": "https://localhost:8080/"
        },
        "id": "f-NfnAG2Za3z",
        "outputId": "9d8c36b2-7e85-4b81-a520-199fbdeaefa9"
      },
      "execution_count": 40,
      "outputs": [
        {
          "output_type": "stream",
          "name": "stdout",
          "text": [
            "TypeError can only concatenate str (not \"int\") to str\n"
          ]
        }
      ]
    }
  ]
}