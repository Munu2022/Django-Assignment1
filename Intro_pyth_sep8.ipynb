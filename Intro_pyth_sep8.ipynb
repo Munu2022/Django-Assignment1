{
  "nbformat": 4,
  "nbformat_minor": 0,
  "metadata": {
    "colab": {
      "provenance": [],
      "authorship_tag": "ABX9TyMzvFbkeHpKx8wzj6nH/lr4",
      "include_colab_link": true
    },
    "kernelspec": {
      "name": "python3",
      "display_name": "Python 3"
    },
    "language_info": {
      "name": "python"
    },
    "gpuClass": "standard"
  },
  "cells": [
    {
      "cell_type": "markdown",
      "metadata": {
        "id": "view-in-github",
        "colab_type": "text"
      },
      "source": [
        "<a href=\"https://colab.research.google.com/github/Munu2022/Django-Assignment1/blob/main/Intro_pyth_sep8.ipynb\" target=\"_parent\"><img src=\"https://colab.research.google.com/assets/colab-badge.svg\" alt=\"Open In Colab\"/></a>"
      ]
    },
    {
      "cell_type": "code",
      "execution_count": null,
      "metadata": {
        "colab": {
          "base_uri": "https://localhost:8080/"
        },
        "id": "fGAaCrXNjyu7",
        "outputId": "f8c6cbcc-5953-4b9d-ac0a-f591ce046576"
      },
      "outputs": [
        {
          "output_type": "stream",
          "name": "stdout",
          "text": [
            "Welcome to Python Session\n"
          ]
        }
      ],
      "source": [
        "print(\"Welcome to Python Session\")"
      ]
    },
    {
      "cell_type": "markdown",
      "source": [
        "# data type in python\n",
        "1. standard data type\n",
        "  1. number\n",
        "    1. int\n",
        "    2. float\n",
        "    3. complex\n",
        "  2. string\n",
        "  3. boolean\n",
        "\n",
        "2. data structure data type\n",
        "  1. set\n",
        "  2. "
      ],
      "metadata": {
        "id": "DESOReS5qQRT"
      }
    },
    {
      "cell_type": "code",
      "source": [
        "a = 10\n",
        "print(a)\n",
        "print(type(a))"
      ],
      "metadata": {
        "colab": {
          "base_uri": "https://localhost:8080/"
        },
        "id": "9nytEhnTsdcQ",
        "outputId": "b9b8b59f-27e9-4955-e1b0-1dc6b2f05e13"
      },
      "execution_count": null,
      "outputs": [
        {
          "output_type": "stream",
          "name": "stdout",
          "text": [
            "10\n",
            "<class 'int'>\n"
          ]
        }
      ]
    },
    {
      "cell_type": "code",
      "source": [],
      "metadata": {
        "id": "R2KqrU_zs19o"
      },
      "execution_count": null,
      "outputs": []
    },
    {
      "cell_type": "code",
      "source": [
        "a = 10.2\n",
        "print(a)\n",
        "print(type(a))"
      ],
      "metadata": {
        "colab": {
          "base_uri": "https://localhost:8080/"
        },
        "outputId": "0d7de2af-e935-4bc4-cc79-99bb6568d5af",
        "id": "RZwrCElBs2dw"
      },
      "execution_count": null,
      "outputs": [
        {
          "output_type": "stream",
          "name": "stdout",
          "text": [
            "10.2\n",
            "<class 'float'>\n"
          ]
        }
      ]
    },
    {
      "cell_type": "code",
      "source": [],
      "metadata": {
        "id": "UkA-I8N2s6-N"
      },
      "execution_count": null,
      "outputs": []
    },
    {
      "cell_type": "code",
      "source": [
        "a = 10 + 2j\n",
        "print(a)\n",
        "print(type(a))"
      ],
      "metadata": {
        "colab": {
          "base_uri": "https://localhost:8080/"
        },
        "outputId": "a2abb070-a52d-4226-9165-92f892647700",
        "id": "dLXSjbT5s7gW"
      },
      "execution_count": null,
      "outputs": [
        {
          "output_type": "stream",
          "name": "stdout",
          "text": [
            "(10+2j)\n",
            "<class 'complex'>\n"
          ]
        }
      ]
    },
    {
      "cell_type": "code",
      "source": [],
      "metadata": {
        "id": "iicgZqM1txJ_"
      },
      "execution_count": null,
      "outputs": []
    },
    {
      "cell_type": "code",
      "source": [
        "a = True\n",
        "print(a)\n",
        "print(type(a))"
      ],
      "metadata": {
        "colab": {
          "base_uri": "https://localhost:8080/"
        },
        "outputId": "1c2525b0-a0ae-4d2c-9eed-48a8a012d0d7",
        "id": "9qJr5JECtyn9"
      },
      "execution_count": null,
      "outputs": [
        {
          "output_type": "stream",
          "name": "stdout",
          "text": [
            "True\n",
            "<class 'bool'>\n"
          ]
        }
      ]
    },
    {
      "cell_type": "markdown",
      "source": [
        "2. Data Structure Data type\n",
        "  1. list\n",
        "        use []\n",
        "        it is mutable\n",
        "  2. tuple\n",
        "      use () \n",
        "      it is immutable\n",
        "  3. set\n",
        "      use {}\n",
        "      values are suffled and cannot have dublicate value. set will automatically remove dublicate values and show only one value.\n",
        "  4. Dictionary "
      ],
      "metadata": {
        "id": "bTNVXUCBvtsk"
      }
    },
    {
      "cell_type": "markdown",
      "source": [
        "1. append = a.is inbuilt fuction, it means adding in end.\n",
        "         b.it will add item to list\n",
        "  eg = a.append()\n",
        "\n",
        "2. clear = clears the list\n",
        "      eg. a.clear()\n",
        "\n",
        "3. copy = makes copy\n",
        "    eg. a_cp = a.copy()\n",
        "\n",
        "4. count = count number of occarance\n",
        "    eg a.count('e')\n",
        "\n",
        "5. extend = add a list to list\n",
        "    eg. a.extend([new list])\n",
        "6. insert = insert in any place \n",
        "    eg. a.insert(3,'apple')\n",
        "    on index potion 3 apple is added\n",
        "\n",
        "    index position starts with 0 onwards, so 0,1,2,3,4,.... so on.\n",
        "\n",
        "7. pop = it removes value\n",
        "      it no index it will remove last value\n",
        "      a.pop()\n",
        "8. remove = remove fist occrance of that value\n",
        "      a.remove('apple')\n",
        "\n",
        "9. reverse = will print list in reverse order\n",
        "     a. reverse()\n",
        "     \n",
        "\n",
        "\n",
        "\n"
      ],
      "metadata": {
        "id": "EjRujMA8zSN_"
      }
    },
    {
      "cell_type": "markdown",
      "source": [
        "Assinment: for tuble and set run above funtions"
      ],
      "metadata": {
        "id": "pz7qSzJa2EDq"
      }
    }
  ]
}