{
  "nbformat": 4,
  "nbformat_minor": 0,
  "metadata": {
    "colab": {
      "provenance": [],
      "authorship_tag": "ABX9TyOq6wuhyvJYm7NhgH3XnJS/",
      "include_colab_link": true
    },
    "kernelspec": {
      "name": "python3",
      "display_name": "Python 3"
    },
    "language_info": {
      "name": "python"
    }
  },
  "cells": [
    {
      "cell_type": "markdown",
      "metadata": {
        "id": "view-in-github",
        "colab_type": "text"
      },
      "source": [
        "<a href=\"https://colab.research.google.com/github/Munu2022/Django-Assignment1/blob/main/sep26.ipynb\" target=\"_parent\"><img src=\"https://colab.research.google.com/assets/colab-badge.svg\" alt=\"Open In Colab\"/></a>"
      ]
    },
    {
      "cell_type": "code",
      "execution_count": 2,
      "metadata": {
        "colab": {
          "base_uri": "https://localhost:8080/"
        },
        "id": "UCFlsEtFFhUd",
        "outputId": "3bf7b124-4b8d-4479-efb8-3c86a20a4f4c"
      },
      "outputs": [
        {
          "output_type": "stream",
          "name": "stdout",
          "text": [
            "<class 'int'>\n"
          ]
        }
      ],
      "source": [
        "# var1 is object of class int.\n",
        "var1 = 1947 \n",
        "print(type(var1))"
      ]
    },
    {
      "cell_type": "markdown",
      "source": [
        "Object is instance of class."
      ],
      "metadata": {
        "id": "skbgBpJIRPBu"
      }
    },
    {
      "cell_type": "code",
      "source": [
        "a = 12345\n",
        "b = 3.14\n",
        "c=4-5j\n",
        "d= True\n",
        "e = 'AASSD'\n",
        "f=[1,2,3,4,5,6]\n",
        "g= ('a','s','d','r','e')\n",
        "h={'!','@','$','^','&'}\n",
        "i={1:23,3:45,5:6}\n",
        "print(type(a ))\n",
        "print(type(b ))\n",
        "print(type(c ))\n",
        "print(type(d ))\n",
        "print(type(e ))\n",
        "print(type(f))\n",
        "print(type(g))\n",
        "print(type(h))\n",
        "print(type(i ))\n"
      ],
      "metadata": {
        "colab": {
          "base_uri": "https://localhost:8080/"
        },
        "id": "SW_f6FI8UT-j",
        "outputId": "cab1f4a1-86db-45f7-d460-81e461a6e5e1"
      },
      "execution_count": 7,
      "outputs": [
        {
          "output_type": "stream",
          "name": "stdout",
          "text": [
            "<class 'int'>\n",
            "<class 'float'>\n",
            "<class 'complex'>\n",
            "<class 'bool'>\n",
            "<class 'str'>\n",
            "<class 'list'>\n",
            "<class 'tuple'>\n",
            "<class 'set'>\n",
            "<class 'dict'>\n"
          ]
        }
      ]
    },
    {
      "cell_type": "code",
      "source": [
        "class mobile_cls:\n",
        "  x= 'Samsumg HTX'"
      ],
      "metadata": {
        "id": "OfM13aelVjzp"
      },
      "execution_count": 10,
      "outputs": []
    },
    {
      "cell_type": "code",
      "source": [
        "mob_obj1=mobile_cls()\n",
        "print(mob_obj1.x)\n",
        "print(mobile_cls.x)\n",
        "print(type(mob_obj1))\n"
      ],
      "metadata": {
        "colab": {
          "base_uri": "https://localhost:8080/"
        },
        "id": "wK0N8aq_VtYZ",
        "outputId": "61f4cf96-6a3f-4c31-ffd9-6e022447734e"
      },
      "execution_count": 13,
      "outputs": [
        {
          "output_type": "stream",
          "name": "stdout",
          "text": [
            "Samsumg HTX\n",
            "Samsumg HTX\n",
            "<class '__main__.mobile_cls'>\n"
          ]
        }
      ]
    },
    {
      "cell_type": "code",
      "source": [
        "class sum1:\n",
        "  x= a + b\n",
        "  "
      ],
      "metadata": {
        "id": "l7-IB688XUdP"
      },
      "execution_count": 35,
      "outputs": []
    },
    {
      "cell_type": "code",
      "source": [
        "d = sum1.x\n",
        "a= 2\n",
        "b=7\n",
        "print(d)"
      ],
      "metadata": {
        "colab": {
          "base_uri": "https://localhost:8080/"
        },
        "id": "evT9hfszXb8e",
        "outputId": "43c85d0a-d7f4-4d36-aecb-a0dc0c41abd7"
      },
      "execution_count": 36,
      "outputs": [
        {
          "output_type": "stream",
          "name": "stdout",
          "text": [
            "9\n"
          ]
        }
      ]
    },
    {
      "cell_type": "code",
      "source": [
        "class mobile_cls:\n",
        "  def __init__(self,os,ram,im,ex,model):\n",
        "    self.opreating_sys=os\n",
        "    self.ram=ram\n",
        "    self.internal_mem=im\n",
        "    self.external_mem=ex\n",
        "    self.mobile_model=model"
      ],
      "metadata": {
        "id": "5VQY9bscciPU"
      },
      "execution_count": 38,
      "outputs": []
    },
    {
      "cell_type": "code",
      "source": [
        "mobile_obj1=mobile_cls('Android X23','16 GB','1 TB','512 MB','Samsung')\n"
      ],
      "metadata": {
        "id": "J4wikzp9dWTT"
      },
      "execution_count": 39,
      "outputs": []
    },
    {
      "cell_type": "code",
      "source": [
        "print(mobile_obj1.opreating_sys, mobile_obj1.ram, mobile_obj1.internal_mem, mobile_obj1.external_mem,mobile_obj1.mobile_model)"
      ],
      "metadata": {
        "colab": {
          "base_uri": "https://localhost:8080/"
        },
        "id": "Q10QI9hOdyvW",
        "outputId": "edad49e4-88d0-43ad-f81b-c4e038d17b60"
      },
      "execution_count": 41,
      "outputs": [
        {
          "output_type": "stream",
          "name": "stdout",
          "text": [
            "Android X23 16 GB 1 TB 512 MB Samsung\n"
          ]
        }
      ]
    },
    {
      "cell_type": "code",
      "source": [
        "class mobile_cls:\n",
        "  def __init__(self,os,ram,im,ex,model):\n",
        "    self.opreating_sys=os\n",
        "    self.ram=ram\n",
        "    self.internal_mem=im\n",
        "    self.external_mem=ex\n",
        "    self.mobile_model=model\n",
        "\n",
        "  def print_config(self):\n",
        "    print(self.opreating_sys,self.ram,self.internal_mem,self.external_mem,self.mobile_model)"
      ],
      "metadata": {
        "id": "FQvK0pooh_UR"
      },
      "execution_count": 45,
      "outputs": []
    },
    {
      "cell_type": "code",
      "source": [
        "mobile_obj2= mobile_cls('Android X23','16 GB','1 TB','512 MB','Samsung')"
      ],
      "metadata": {
        "id": "aWDKTKR9irMC"
      },
      "execution_count": 46,
      "outputs": []
    },
    {
      "cell_type": "code",
      "source": [
        "mobile_obj2.print_config()"
      ],
      "metadata": {
        "colab": {
          "base_uri": "https://localhost:8080/"
        },
        "id": "rFeWTjoZjCoB",
        "outputId": "e294f068-90f5-4293-8773-3d7f06d97250"
      },
      "execution_count": 48,
      "outputs": [
        {
          "output_type": "stream",
          "name": "stdout",
          "text": [
            "Android X23 16 GB 1 TB 512 MB Samsung\n"
          ]
        }
      ]
    },
    {
      "cell_type": "code",
      "source": [
        "mobile_obj2.print_config()"
      ],
      "metadata": {
        "colab": {
          "base_uri": "https://localhost:8080/"
        },
        "id": "xMd1RBCejQYN",
        "outputId": "5ba53593-0eba-4372-990c-556e8ea12ff6"
      },
      "execution_count": 51,
      "outputs": [
        {
          "output_type": "stream",
          "name": "stdout",
          "text": [
            "Android X23 16 GB 1 TB 512 MB Samsung\n"
          ]
        }
      ]
    }
  ]
}