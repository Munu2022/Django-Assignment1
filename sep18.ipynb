{
  "nbformat": 4,
  "nbformat_minor": 0,
  "metadata": {
    "colab": {
      "provenance": [],
      "authorship_tag": "ABX9TyO+1MRoFpfV5J2Odp6Csmkm",
      "include_colab_link": true
    },
    "kernelspec": {
      "name": "python3",
      "display_name": "Python 3"
    },
    "language_info": {
      "name": "python"
    }
  },
  "cells": [
    {
      "cell_type": "markdown",
      "metadata": {
        "id": "view-in-github",
        "colab_type": "text"
      },
      "source": [
        "<a href=\"https://colab.research.google.com/github/Munu2022/Django-Assignment1/blob/main/sep18.ipynb\" target=\"_parent\"><img src=\"https://colab.research.google.com/assets/colab-badge.svg\" alt=\"Open In Colab\"/></a>"
      ]
    },
    {
      "cell_type": "code",
      "execution_count": 1,
      "metadata": {
        "colab": {
          "base_uri": "https://localhost:8080/"
        },
        "id": "wZKkoLr4DJE5",
        "outputId": "9aeb6767-37b4-44e2-fb22-97600cf013bb"
      },
      "outputs": [
        {
          "output_type": "stream",
          "name": "stdout",
          "text": [
            "0\n",
            "1\n",
            "2\n",
            "3\n",
            "4\n",
            "5\n",
            "6\n",
            "7\n",
            "8\n",
            "9\n"
          ]
        }
      ],
      "source": [
        "for i in range(0,10,1):\n",
        "  print(i)"
      ]
    },
    {
      "cell_type": "code",
      "source": [
        "for i in range(0,10,1):\n",
        "  print(i, end=', ')# '\\n' replced with ', '"
      ],
      "metadata": {
        "colab": {
          "base_uri": "https://localhost:8080/"
        },
        "id": "wzTEzkBwEOKL",
        "outputId": "39f68942-f1ed-4ad9-e223-1a241888dc23"
      },
      "execution_count": 2,
      "outputs": [
        {
          "output_type": "stream",
          "name": "stdout",
          "text": [
            "0, 1, 2, 3, 4, 5, 6, 7, 8, 9, "
          ]
        }
      ]
    },
    {
      "cell_type": "code",
      "source": [
        "str1 = \"Python Programming \" \n",
        "for  i in str1:\n",
        "  print(i, end=', ')"
      ],
      "metadata": {
        "colab": {
          "base_uri": "https://localhost:8080/"
        },
        "id": "WtJuZc0HEo_S",
        "outputId": "4b02a115-0550-411c-a1a3-f52dd39e79cc"
      },
      "execution_count": 3,
      "outputs": [
        {
          "output_type": "stream",
          "name": "stdout",
          "text": [
            "P, y, t, h, o, n,  , P, r, o, g, r, a, m, m, i, n, g,  , "
          ]
        }
      ]
    },
    {
      "cell_type": "code",
      "source": [
        "lst1 = [aaples, banana, orange, cheery]\n",
        "  print(i, end=', ')"
      ],
      "metadata": {
        "colab": {
          "base_uri": "https://localhost:8080/",
          "height": 133
        },
        "id": "xj7nU_MkFKu6",
        "outputId": "21c35cc3-e215-499c-a863-791f4e293de6"
      },
      "execution_count": 11,
      "outputs": [
        {
          "output_type": "error",
          "ename": "IndentationError",
          "evalue": "ignored",
          "traceback": [
            "\u001b[0;36m  File \u001b[0;32m\"<ipython-input-11-71a1746fb4a3>\"\u001b[0;36m, line \u001b[0;32m2\u001b[0m\n\u001b[0;31m    print(i, end=', ')\u001b[0m\n\u001b[0m    ^\u001b[0m\n\u001b[0;31mIndentationError\u001b[0m\u001b[0;31m:\u001b[0m unexpected indent\n"
          ]
        }
      ]
    },
    {
      "cell_type": "code",
      "source": [
        "\n",
        "dict1 = {'Andhra Pradesh':'Amaravati',\n",
        "       'Arunachal Pradesh':'Itanagar','Assam':'Dispur','Bihar':'Patna','Chhattisgarh':'Raipur','Goa':'Panaji','Gujarat':'Gandhinagar'}​​​\n",
        "\n",
        "for  i in dict1.items():\n",
        "  print(i, end=', ')"
      ],
      "metadata": {
        "colab": {
          "base_uri": "https://localhost:8080/",
          "height": 189
        },
        "id": "vwtS-KDGHXN4",
        "outputId": "dedc0f1a-2444-4895-8c17-0a68e0ec2a81"
      },
      "execution_count": 10,
      "outputs": [
        {
          "output_type": "error",
          "ename": "SyntaxError",
          "evalue": "ignored",
          "traceback": [
            "\u001b[0;36m  File \u001b[0;32m\"<ipython-input-10-dde627b5fff3>\"\u001b[0;36m, line \u001b[0;32m2\u001b[0m\n\u001b[0;31m    'Arunachal Pradesh':'Itanagar','Assam':'Dispur','Bihar':'Patna','Chhattisgarh':'Raipur','Goa':'Panaji','Gujarat':'Gandhinagar'}​​​\u001b[0m\n\u001b[0m                                                                                                                                     ^\u001b[0m\n\u001b[0;31mSyntaxError\u001b[0m\u001b[0;31m:\u001b[0m invalid character in identifier\n"
          ]
        }
      ]
    },
    {
      "cell_type": "code",
      "source": [
        "lst1 =[apples, banana, orange, cheery]\n",
        "for i in lst1:\n",
        "  print(i, end=', ')\n",
        "  if i == 'banana':\n",
        "    print('Momkey', ', ')"
      ],
      "metadata": {
        "colab": {
          "base_uri": "https://localhost:8080/",
          "height": 276
        },
        "id": "qd6ojwweIdcI",
        "outputId": "b98b1a24-a426-4741-d1f9-145cfc7937e1"
      },
      "execution_count": 14,
      "outputs": [
        {
          "output_type": "error",
          "ename": "NameError",
          "evalue": "ignored",
          "traceback": [
            "\u001b[0;31m---------------------------------------------------------------------------\u001b[0m",
            "\u001b[0;31mNameError\u001b[0m                                 Traceback (most recent call last)",
            "\u001b[0;32m<ipython-input-14-465e08d6cbaf>\u001b[0m in \u001b[0;36m<module>\u001b[0;34m\u001b[0m\n\u001b[0;32m----> 1\u001b[0;31m \u001b[0mlst1\u001b[0m \u001b[0;34m=\u001b[0m\u001b[0;34m[\u001b[0m\u001b[0mapples\u001b[0m\u001b[0;34m,\u001b[0m \u001b[0mbanana\u001b[0m\u001b[0;34m,\u001b[0m \u001b[0morange\u001b[0m\u001b[0;34m,\u001b[0m \u001b[0mcheery\u001b[0m\u001b[0;34m]\u001b[0m\u001b[0;34m\u001b[0m\u001b[0;34m\u001b[0m\u001b[0m\n\u001b[0m\u001b[1;32m      2\u001b[0m \u001b[0;32mfor\u001b[0m \u001b[0mi\u001b[0m \u001b[0;32min\u001b[0m \u001b[0mlst1\u001b[0m\u001b[0;34m:\u001b[0m\u001b[0;34m\u001b[0m\u001b[0;34m\u001b[0m\u001b[0m\n\u001b[1;32m      3\u001b[0m   \u001b[0mprint\u001b[0m\u001b[0;34m(\u001b[0m\u001b[0mi\u001b[0m\u001b[0;34m,\u001b[0m \u001b[0mend\u001b[0m\u001b[0;34m=\u001b[0m\u001b[0;34m', '\u001b[0m\u001b[0;34m)\u001b[0m\u001b[0;34m\u001b[0m\u001b[0;34m\u001b[0m\u001b[0m\n\u001b[1;32m      4\u001b[0m   \u001b[0;32mif\u001b[0m \u001b[0mi\u001b[0m \u001b[0;34m==\u001b[0m \u001b[0;34m'banana'\u001b[0m\u001b[0;34m:\u001b[0m\u001b[0;34m\u001b[0m\u001b[0;34m\u001b[0m\u001b[0m\n\u001b[1;32m      5\u001b[0m     \u001b[0mprint\u001b[0m\u001b[0;34m(\u001b[0m\u001b[0;34m'Momkey'\u001b[0m\u001b[0;34m,\u001b[0m \u001b[0;34m', '\u001b[0m\u001b[0;34m)\u001b[0m\u001b[0;34m\u001b[0m\u001b[0;34m\u001b[0m\u001b[0m\n",
            "\u001b[0;31mNameError\u001b[0m: name 'apples' is not defined"
          ]
        }
      ]
    },
    {
      "cell_type": "code",
      "source": [
        "list1 = ['app','bana','cherr','orange']#replace bana with monkey\n",
        "for i in list1:\n",
        "  if i == 'bana':\n",
        "    print('monkey',', ')\n",
        "  else:\n",
        "    print(i, end=', ')"
      ],
      "metadata": {
        "colab": {
          "base_uri": "https://localhost:8080/"
        },
        "id": "zDccCL5zJfBR",
        "outputId": "8d2ac1f2-3c6f-446d-f931-38579259b269"
      },
      "execution_count": 17,
      "outputs": [
        {
          "output_type": "stream",
          "name": "stdout",
          "text": [
            "app, monkey , \n",
            "cherr, orange, "
          ]
        }
      ]
    },
    {
      "cell_type": "code",
      "source": [
        "tup1 = ('Ahmednagar','Akola','Amravati','Aurangabad','Beed','Bhandara','Buldhana','Chandrapur')\n",
        "for i in tup1:\n",
        "  if i == 'Beed':\n",
        "    print('Who',', ')\n",
        "  else:\n",
        "    print(i, end=', ')"
      ],
      "metadata": {
        "colab": {
          "base_uri": "https://localhost:8080/"
        },
        "id": "PttJ0WpNK2Yb",
        "outputId": "25252801-f97e-4f42-fb11-9de4ff06cceb"
      },
      "execution_count": 19,
      "outputs": [
        {
          "output_type": "stream",
          "name": "stdout",
          "text": [
            "Ahmednagar, Akola, Amravati, Aurangabad, Who , \n",
            "Bhandara, Buldhana, Chandrapur, "
          ]
        }
      ]
    },
    {
      "cell_type": "markdown",
      "source": [
        "Break, continue ,pass"
      ],
      "metadata": {
        "id": "KDlEpCv7Le-a"
      }
    },
    {
      "cell_type": "code",
      "source": [
        "list1 = ['app','bana','cherr','orange']\n",
        "for i in list1:\n",
        "  if (i == 'cherr'):\n",
        "    break\n",
        "  else:\n",
        "    print(i, end=', ')"
      ],
      "metadata": {
        "colab": {
          "base_uri": "https://localhost:8080/"
        },
        "id": "6gEV4vpNLiXD",
        "outputId": "89390bb0-cc6d-47f9-d3b7-0e7d6d52a9fb"
      },
      "execution_count": 22,
      "outputs": [
        {
          "output_type": "stream",
          "name": "stdout",
          "text": [
            "app, bana, "
          ]
        }
      ]
    },
    {
      "cell_type": "code",
      "source": [
        "list1 = ['app','bana','cherr','orange']\n",
        "for i in list1:\n",
        "  if (i == 'cherr'):\n",
        "    continue \n",
        "  else:\n",
        "    print(i, end=', ')"
      ],
      "metadata": {
        "colab": {
          "base_uri": "https://localhost:8080/"
        },
        "id": "naosWh0nMSrx",
        "outputId": "0f50bbc6-cae3-4580-d756-591f09fcbc35"
      },
      "execution_count": 23,
      "outputs": [
        {
          "output_type": "stream",
          "name": "stdout",
          "text": [
            "app, bana, orange, "
          ]
        }
      ]
    },
    {
      "cell_type": "code",
      "source": [
        "list1 = ['app','bana','cherr','orange']\n",
        "for i in list1:\n",
        "  pass # just draw structure of code, it will avoid error message\n",
        "  "
      ],
      "metadata": {
        "id": "w8i3bRngMfDq"
      },
      "execution_count": 24,
      "outputs": []
    },
    {
      "cell_type": "markdown",
      "source": [
        "wirte a program to display ten *\n",
        "using for loop"
      ],
      "metadata": {
        "id": "2lgcmKAZNFp3"
      }
    },
    {
      "cell_type": "code",
      "source": [
        "for i in range (0,10):\n",
        "  print('*',end='')"
      ],
      "metadata": {
        "colab": {
          "base_uri": "https://localhost:8080/"
        },
        "id": "bSDBkYKBNBan",
        "outputId": "8754a44b-803f-4514-a1f0-f6ed70feb2ed"
      },
      "execution_count": 27,
      "outputs": [
        {
          "output_type": "stream",
          "name": "stdout",
          "text": [
            "**********"
          ]
        }
      ]
    },
    {
      "cell_type": "code",
      "source": [
        "for i in range(0,10):\n",
        "  for j in range(0,10):\n",
        "    print(i, '-',j,end=', ')\n",
        "  print()"
      ],
      "metadata": {
        "colab": {
          "base_uri": "https://localhost:8080/"
        },
        "id": "La8vynzrOfOF",
        "outputId": "e30f8d10-85d4-4d5e-9eda-474c7a090117"
      },
      "execution_count": 29,
      "outputs": [
        {
          "output_type": "stream",
          "name": "stdout",
          "text": [
            "0 - 0, 0 - 1, 0 - 2, 0 - 3, 0 - 4, 0 - 5, 0 - 6, 0 - 7, 0 - 8, 0 - 9, \n",
            "1 - 0, 1 - 1, 1 - 2, 1 - 3, 1 - 4, 1 - 5, 1 - 6, 1 - 7, 1 - 8, 1 - 9, \n",
            "2 - 0, 2 - 1, 2 - 2, 2 - 3, 2 - 4, 2 - 5, 2 - 6, 2 - 7, 2 - 8, 2 - 9, \n",
            "3 - 0, 3 - 1, 3 - 2, 3 - 3, 3 - 4, 3 - 5, 3 - 6, 3 - 7, 3 - 8, 3 - 9, \n",
            "4 - 0, 4 - 1, 4 - 2, 4 - 3, 4 - 4, 4 - 5, 4 - 6, 4 - 7, 4 - 8, 4 - 9, \n",
            "5 - 0, 5 - 1, 5 - 2, 5 - 3, 5 - 4, 5 - 5, 5 - 6, 5 - 7, 5 - 8, 5 - 9, \n",
            "6 - 0, 6 - 1, 6 - 2, 6 - 3, 6 - 4, 6 - 5, 6 - 6, 6 - 7, 6 - 8, 6 - 9, \n",
            "7 - 0, 7 - 1, 7 - 2, 7 - 3, 7 - 4, 7 - 5, 7 - 6, 7 - 7, 7 - 8, 7 - 9, \n",
            "8 - 0, 8 - 1, 8 - 2, 8 - 3, 8 - 4, 8 - 5, 8 - 6, 8 - 7, 8 - 8, 8 - 9, \n",
            "9 - 0, 9 - 1, 9 - 2, 9 - 3, 9 - 4, 9 - 5, 9 - 6, 9 - 7, 9 - 8, 9 - 9, \n"
          ]
        }
      ]
    },
    {
      "cell_type": "code",
      "source": [
        "a =10\n",
        "for i in range(0,10):\n",
        "  for j in range(0,10):\n",
        "    print('*',end='')\n",
        "  print()\n",
        "    "
      ],
      "metadata": {
        "colab": {
          "base_uri": "https://localhost:8080/"
        },
        "id": "Zv0tQGK1Pp0U",
        "outputId": "b12f2a91-7403-494c-b1b8-038cd10a01d6"
      },
      "execution_count": 41,
      "outputs": [
        {
          "output_type": "stream",
          "name": "stdout",
          "text": [
            "**********\n",
            "**********\n",
            "**********\n",
            "**********\n",
            "**********\n",
            "**********\n",
            "**********\n",
            "**********\n",
            "**********\n",
            "**********\n"
          ]
        }
      ]
    },
    {
      "cell_type": "code",
      "source": [
        "\n",
        "for i in range(0,10):\n",
        "  for j in range(0,i):\n",
        "    print('*',end='')\n",
        "  print()"
      ],
      "metadata": {
        "colab": {
          "base_uri": "https://localhost:8080/"
        },
        "id": "xurgRj_TRiNp",
        "outputId": "a9270421-a304-493c-d1cb-e19eb5f27ebb"
      },
      "execution_count": 42,
      "outputs": [
        {
          "output_type": "stream",
          "name": "stdout",
          "text": [
            "\n",
            "*\n",
            "**\n",
            "***\n",
            "****\n",
            "*****\n",
            "******\n",
            "*******\n",
            "********\n",
            "*********\n"
          ]
        }
      ]
    },
    {
      "cell_type": "code",
      "source": [
        "for i in range(10,0,-1):\n",
        "  for j in range(0,i):\n",
        "    \n",
        "    print('*',end='')\n",
        "  print()"
      ],
      "metadata": {
        "colab": {
          "base_uri": "https://localhost:8080/"
        },
        "id": "RWZrpPelRr5r",
        "outputId": "eab3c911-fff3-477f-f51c-a1eb2b27e98f"
      },
      "execution_count": 47,
      "outputs": [
        {
          "output_type": "stream",
          "name": "stdout",
          "text": [
            "**********\n",
            "*********\n",
            "********\n",
            "*******\n",
            "******\n",
            "*****\n",
            "****\n",
            "***\n",
            "**\n",
            "*\n"
          ]
        }
      ]
    },
    {
      "cell_type": "code",
      "source": [
        "for i in range(0,5):\n",
        "  for j in range(5-i,1,-1):\n",
        "    print('^',end='')\n",
        "  for k in range (0,i+1):\n",
        "    print('*',end='')\n",
        "  print()"
      ],
      "metadata": {
        "colab": {
          "base_uri": "https://localhost:8080/"
        },
        "id": "btA3k3scSsWw",
        "outputId": "1f5965c9-365b-4fdc-a15b-bd8951003da5"
      },
      "execution_count": 52,
      "outputs": [
        {
          "output_type": "stream",
          "name": "stdout",
          "text": [
            "^^^^*\n",
            "^^^**\n",
            "^^***\n",
            "^****\n",
            "*****\n"
          ]
        }
      ]
    }
  ]
}