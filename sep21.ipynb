{
  "nbformat": 4,
  "nbformat_minor": 0,
  "metadata": {
    "colab": {
      "provenance": [],
      "authorship_tag": "ABX9TyO+6PRZL2TTvkEG2mcDp2Nn",
      "include_colab_link": true
    },
    "kernelspec": {
      "name": "python3",
      "display_name": "Python 3"
    },
    "language_info": {
      "name": "python"
    }
  },
  "cells": [
    {
      "cell_type": "markdown",
      "metadata": {
        "id": "view-in-github",
        "colab_type": "text"
      },
      "source": [
        "<a href=\"https://colab.research.google.com/github/Munu2022/Django-Assignment1/blob/main/sep21.ipynb\" target=\"_parent\"><img src=\"https://colab.research.google.com/assets/colab-badge.svg\" alt=\"Open In Colab\"/></a>"
      ]
    },
    {
      "cell_type": "code",
      "execution_count": null,
      "metadata": {
        "id": "f3g-OLbocp1S"
      },
      "outputs": [],
      "source": []
    },
    {
      "cell_type": "markdown",
      "source": [
        "user defined funtions\n",
        "\n",
        "# syntx: def fun_name(parameters):\n",
        "        # statement\n",
        "        return expression"
      ],
      "metadata": {
        "id": "q817y-bvf2bg"
      }
    },
    {
      "cell_type": "code",
      "source": [
        "print('my name is Anthony Gonsalves')"
      ],
      "metadata": {
        "colab": {
          "base_uri": "https://localhost:8080/"
        },
        "id": "KWZqZuO3gNAx",
        "outputId": "80e258b3-e556-4bc6-a17c-31e8b5934a28"
      },
      "execution_count": 2,
      "outputs": [
        {
          "output_type": "stream",
          "name": "stdout",
          "text": [
            "my name is Anthony Gonsalves\n"
          ]
        }
      ]
    },
    {
      "cell_type": "code",
      "source": [
        "def my_name():\n",
        "  print('my name is Anthony Gonsalves')\n"
      ],
      "metadata": {
        "id": "t42Yc-ilgagU"
      },
      "execution_count": 3,
      "outputs": []
    },
    {
      "cell_type": "markdown",
      "source": [
        "call funtion"
      ],
      "metadata": {
        "id": "D-Hbd68ohQnt"
      }
    },
    {
      "cell_type": "code",
      "source": [
        "my_name()"
      ],
      "metadata": {
        "colab": {
          "base_uri": "https://localhost:8080/"
        },
        "id": "J4_VNf4qhLoy",
        "outputId": "f9318af5-9895-4cba-cc9b-dc5a087b9d2d"
      },
      "execution_count": 4,
      "outputs": [
        {
          "output_type": "stream",
          "name": "stdout",
          "text": [
            "my name is Anthony Gonsalves\n"
          ]
        }
      ]
    },
    {
      "cell_type": "code",
      "source": [
        "def my_name(fname,lname):\n",
        "  print('my name is', fname,'', lname)"
      ],
      "metadata": {
        "id": "9noIqpD3hTS4"
      },
      "execution_count": 7,
      "outputs": []
    },
    {
      "cell_type": "code",
      "source": [
        "my_name('Ram','Sharma')"
      ],
      "metadata": {
        "colab": {
          "base_uri": "https://localhost:8080/"
        },
        "id": "EDX0GHJOhhru",
        "outputId": "fbaa5de9-49e1-4492-e63e-6644f094c419"
      },
      "execution_count": 8,
      "outputs": [
        {
          "output_type": "stream",
          "name": "stdout",
          "text": [
            "my name is Ram  Sharma\n"
          ]
        }
      ]
    },
    {
      "cell_type": "code",
      "source": [
        "def sumup(var1, var2):\n",
        "  print(var1 + var2)"
      ],
      "metadata": {
        "id": "O690qVPaiJqI"
      },
      "execution_count": 9,
      "outputs": []
    },
    {
      "cell_type": "code",
      "source": [
        "sumup(11,22)"
      ],
      "metadata": {
        "colab": {
          "base_uri": "https://localhost:8080/"
        },
        "id": "KIIuET_RiZee",
        "outputId": "8d75e5d9-826e-4dbb-d37c-0ae0b9675fa0"
      },
      "execution_count": 10,
      "outputs": [
        {
          "output_type": "stream",
          "name": "stdout",
          "text": [
            "33\n"
          ]
        }
      ]
    },
    {
      "cell_type": "markdown",
      "source": [
        "in python language we do not provide data type , it is automatically assigned during run time.\n",
        "\n",
        ". due to this property **python is **known as **dynamically typed language **.\n",
        "\n",
        "\n"
      ],
      "metadata": {
        "id": "yfXVE_CjiniM"
      }
    },
    {
      "cell_type": "code",
      "source": [
        "def student_info(fname,lname,age,gender,stream):\n",
        "  print('First Name:',fname,'\\n','Second Name:',lname,'\\n','Age:',age,'\\n','Gender:',gender,'\\n','Stream:',stream)"
      ],
      "metadata": {
        "id": "qKtIyuBDijM3"
      },
      "execution_count": 17,
      "outputs": []
    },
    {
      "cell_type": "code",
      "source": [
        "student_info('Ram','Ghimire',22.3,'M','PCM')"
      ],
      "metadata": {
        "colab": {
          "base_uri": "https://localhost:8080/"
        },
        "id": "Sjq36emIkCw2",
        "outputId": "b931b3aa-d5ce-4c2a-c05a-d693767a1829"
      },
      "execution_count": 18,
      "outputs": [
        {
          "output_type": "stream",
          "name": "stdout",
          "text": [
            "First Name: Ram \n",
            " Second Name: Ghimire \n",
            " Age: 22.3 \n",
            " Gender: M \n",
            " Stream: PCM\n"
          ]
        }
      ]
    },
    {
      "cell_type": "code",
      "source": [
        "def student_info(fname,lname,yob,g_income):\n",
        "  print('First Name:',fname,'\\n','Second Name:',lname,'\\n','Age:',2022-yob,'\\n','Income after Taxes:',g_income*0.45)"
      ],
      "metadata": {
        "id": "f_bo09BNkmpM"
      },
      "execution_count": 24,
      "outputs": []
    },
    {
      "cell_type": "code",
      "source": [
        "student_info('Ram','Ghimire',1980,200000)"
      ],
      "metadata": {
        "colab": {
          "base_uri": "https://localhost:8080/"
        },
        "id": "uj-uXbpwltle",
        "outputId": "e5f3f05a-b93d-4a7d-d0a4-ab2882f0649d"
      },
      "execution_count": 25,
      "outputs": [
        {
          "output_type": "stream",
          "name": "stdout",
          "text": [
            "First Name: Ram \n",
            " Second Name: Ghimire \n",
            " Age: 42 \n",
            " Income after Taxes: 90000.0\n"
          ]
        }
      ]
    },
    {
      "cell_type": "code",
      "source": [
        "def simp_int(prin, tim, inte):\n",
        "  print((prin*tim*inte)/100)"
      ],
      "metadata": {
        "id": "Lw3B5AR4nljn"
      },
      "execution_count": 28,
      "outputs": []
    },
    {
      "cell_type": "code",
      "source": [
        "simp_int(20000000,10,8.6)"
      ],
      "metadata": {
        "colab": {
          "base_uri": "https://localhost:8080/"
        },
        "id": "WV-sxRICoC_O",
        "outputId": "98172ea9-1f77-486b-a8cb-c4d2172151a9"
      },
      "execution_count": 29,
      "outputs": [
        {
          "output_type": "stream",
          "name": "stdout",
          "text": [
            "17200000.0\n"
          ]
        }
      ]
    },
    {
      "cell_type": "code",
      "source": [
        "name1=['Ram','Dev','Hari','Sam','DD','TJ','Mark','Joe','Don','Jeff']\n",
        "percentage=[90,80,88,70,60,50,77,34,56,99]"
      ],
      "metadata": {
        "id": "1WcMhNucoMv9"
      },
      "execution_count": 40,
      "outputs": []
    },
    {
      "cell_type": "code",
      "source": [
        "def result1(name1,percentage):\n",
        "  if percentage  <50:\n",
        "    print(name1, \"has failed\")\n",
        "  elif percentage  <65:\n",
        "    print(name1, 'has Second Division ')\n",
        "  elif percentage  <80:\n",
        "     print(name1, 'has first Division ')\n",
        "  else:\n",
        "     print(name1, 'has Distinction ')"
      ],
      "metadata": {
        "id": "5nRfNipHpQ_M"
      },
      "execution_count": 49,
      "outputs": []
    },
    {
      "cell_type": "code",
      "source": [
        "for i in range(0,10):\n",
        "  result1(name[i],percentage [i])"
      ],
      "metadata": {
        "colab": {
          "base_uri": "https://localhost:8080/"
        },
        "id": "QDPN59suqysF",
        "outputId": "c7209c76-11c1-4deb-a894-20056b825b0b"
      },
      "execution_count": 50,
      "outputs": [
        {
          "output_type": "stream",
          "name": "stdout",
          "text": [
            "Ram has Distinction \n",
            "Dev has Distinction \n",
            "Hari has Distinction \n",
            "Sam has first Division \n",
            "DD has Second Division \n",
            "TJ has Second Division \n",
            "Mark has first Division \n",
            "Joe has failed\n",
            "Don has Second Division \n",
            "Jeff has Distinction \n"
          ]
        }
      ]
    },
    {
      "cell_type": "markdown",
      "source": [
        "*args---non key argument\n",
        "**kwargs -- key argument"
      ],
      "metadata": {
        "id": "-B4c1tn5uBYZ"
      }
    },
    {
      "cell_type": "code",
      "source": [
        "def my_program(*args):\n",
        "  for i in args:\n",
        "    print(i,end=' ')"
      ],
      "metadata": {
        "id": "8cGj-qR8t3YT"
      },
      "execution_count": 55,
      "outputs": []
    },
    {
      "cell_type": "markdown",
      "source": [
        "(*args)can dynamically capture increasing values."
      ],
      "metadata": {
        "id": "Xi4vJGTqvR8m"
      }
    },
    {
      "cell_type": "code",
      "source": [
        "my_program('my','name','is','Sam','parsad')"
      ],
      "metadata": {
        "colab": {
          "base_uri": "https://localhost:8080/"
        },
        "id": "0ynIYYuzurjo",
        "outputId": "963081c5-1f82-41ba-c667-86073b6d0a1c"
      },
      "execution_count": 56,
      "outputs": [
        {
          "output_type": "stream",
          "name": "stdout",
          "text": [
            "my name is Sam parsad "
          ]
        }
      ]
    },
    {
      "cell_type": "code",
      "source": [
        "my_program('Usa','is','my','country','All','Americans','are','silbings')"
      ],
      "metadata": {
        "colab": {
          "base_uri": "https://localhost:8080/"
        },
        "id": "bNkYdDj1vkgc",
        "outputId": "01aa0a12-6640-4dba-b063-8f8208ec51f5"
      },
      "execution_count": 57,
      "outputs": [
        {
          "output_type": "stream",
          "name": "stdout",
          "text": [
            "Usa is my country All Americans are silbings "
          ]
        }
      ]
    },
    {
      "cell_type": "code",
      "source": [
        "my_program('hi')"
      ],
      "metadata": {
        "colab": {
          "base_uri": "https://localhost:8080/"
        },
        "id": "aUv_4ohLv9tu",
        "outputId": "3b8e9357-bb00-4277-ff8d-efa1716cbde9"
      },
      "execution_count": 58,
      "outputs": [
        {
          "output_type": "stream",
          "name": "stdout",
          "text": [
            "hi "
          ]
        }
      ]
    },
    {
      "cell_type": "code",
      "source": [
        "my_program(1.2,3,4,True,'Sam',[1,2,3,4,6],{23,45,67,78},{'a':2,'e':4})"
      ],
      "metadata": {
        "colab": {
          "base_uri": "https://localhost:8080/"
        },
        "id": "CtqQAMLLwEZn",
        "outputId": "c1e95e83-30ce-492a-f466-709778326a6e"
      },
      "execution_count": 64,
      "outputs": [
        {
          "output_type": "stream",
          "name": "stdout",
          "text": [
            "1.2 3 4 True Sam [1, 2, 3, 4, 6] {67, 45, 78, 23} {'a': 2, 'e': 4} "
          ]
        }
      ]
    }
  ]
}