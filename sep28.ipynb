{
  "nbformat": 4,
  "nbformat_minor": 0,
  "metadata": {
    "colab": {
      "provenance": [],
      "authorship_tag": "ABX9TyPqSvzpZty/KFk9izsKSx/+",
      "include_colab_link": true
    },
    "kernelspec": {
      "name": "python3",
      "display_name": "Python 3"
    },
    "language_info": {
      "name": "python"
    }
  },
  "cells": [
    {
      "cell_type": "markdown",
      "metadata": {
        "id": "view-in-github",
        "colab_type": "text"
      },
      "source": [
        "<a href=\"https://colab.research.google.com/github/Munu2022/Django-Assignment1/blob/main/sep28.ipynb\" target=\"_parent\"><img src=\"https://colab.research.google.com/assets/colab-badge.svg\" alt=\"Open In Colab\"/></a>"
      ]
    },
    {
      "cell_type": "code",
      "execution_count": 1,
      "metadata": {
        "id": "VGsUOGrpexpQ"
      },
      "outputs": [],
      "source": []
    },
    {
      "cell_type": "markdown",
      "source": [
        "Polymorphism : having multiple form"
      ],
      "metadata": {
        "id": "7-OLTQlUjTUm"
      }
    },
    {
      "cell_type": "code",
      "source": [
        "class bird:\n",
        "  def intro(self):\n",
        "    print('we have many types of birds')\n",
        "\n",
        "  def flight(self):\n",
        "    print('most of the birds can fly but few cannot')"
      ],
      "metadata": {
        "id": "GvEMVslOjeYy"
      },
      "execution_count": 2,
      "outputs": []
    },
    {
      "cell_type": "code",
      "source": [
        "class eagle(bird):\n",
        "  def intro(self):\n",
        "    print('eagles can fly very high')\n",
        "\n"
      ],
      "metadata": {
        "id": "sAkX3NF5kAf4"
      },
      "execution_count": 3,
      "outputs": []
    },
    {
      "cell_type": "code",
      "source": [
        "class sparrow(bird):\n",
        "  def intro(self):\n",
        "    print('sparrow can fly low and for small duration')"
      ],
      "metadata": {
        "id": "ZL-ij2I6kSm9"
      },
      "execution_count": 5,
      "outputs": []
    },
    {
      "cell_type": "code",
      "source": [
        "class ostrich(bird):\n",
        "  def intro(self):\n",
        "    print('ostrich cannot fly at all')"
      ],
      "metadata": {
        "id": "kzbGqohdkiYE"
      },
      "execution_count": 4,
      "outputs": []
    },
    {
      "cell_type": "code",
      "source": [
        "class newbird(bird):\n",
        "  pass"
      ],
      "metadata": {
        "id": "sgpyLGHioaeR"
      },
      "execution_count": 13,
      "outputs": []
    },
    {
      "cell_type": "code",
      "source": [
        "newbird_obj=newbird()"
      ],
      "metadata": {
        "id": "xfyHQ2cRohom"
      },
      "execution_count": 14,
      "outputs": []
    },
    {
      "cell_type": "code",
      "source": [
        "newbird_obj.intro()\n",
        "newbird_obj.flight()"
      ],
      "metadata": {
        "colab": {
          "base_uri": "https://localhost:8080/"
        },
        "id": "q4BUJUVGon9C",
        "outputId": "81bd42c9-557e-48a6-d88b-87814ea1806b"
      },
      "execution_count": 15,
      "outputs": [
        {
          "output_type": "stream",
          "name": "stdout",
          "text": [
            "we have many types of birds\n",
            "most of the birds can fly but few cannot\n"
          ]
        }
      ]
    },
    {
      "cell_type": "code",
      "source": [
        "spa_obj = sparrow()"
      ],
      "metadata": {
        "id": "7fIo3bzSk1Zv"
      },
      "execution_count": 6,
      "outputs": []
    },
    {
      "cell_type": "code",
      "source": [
        "spa_obj.intro()\n",
        "spa_obj.flight()"
      ],
      "metadata": {
        "colab": {
          "base_uri": "https://localhost:8080/"
        },
        "id": "lX9JnIZDk8Bs",
        "outputId": "f473ccd4-044d-4e5f-bd9b-7063a67b1e75"
      },
      "execution_count": 8,
      "outputs": [
        {
          "output_type": "stream",
          "name": "stdout",
          "text": [
            "sparrow can fly low and for small duration\n",
            "most of the birds can fly but few cannot\n"
          ]
        }
      ]
    },
    {
      "cell_type": "code",
      "source": [
        "eagle_obj= eagle()"
      ],
      "metadata": {
        "id": "TluXe7r5lK4u"
      },
      "execution_count": 9,
      "outputs": []
    },
    {
      "cell_type": "code",
      "source": [
        "eagle_obj.intro()\n",
        "eagle_obj.flight()"
      ],
      "metadata": {
        "colab": {
          "base_uri": "https://localhost:8080/"
        },
        "id": "oCNp7f9DlRX1",
        "outputId": "c2ba3142-5d09-4f66-f4a4-6b1dab9eea12"
      },
      "execution_count": 10,
      "outputs": [
        {
          "output_type": "stream",
          "name": "stdout",
          "text": [
            "eagles can fly very high\n",
            "most of the birds can fly but few cannot\n"
          ]
        }
      ]
    },
    {
      "cell_type": "code",
      "source": [
        "ost_obj=ostrich()"
      ],
      "metadata": {
        "id": "67wPfScalbXq"
      },
      "execution_count": 11,
      "outputs": []
    },
    {
      "cell_type": "code",
      "source": [
        "ost_obj.intro()\n",
        "ost_obj.flight()"
      ],
      "metadata": {
        "colab": {
          "base_uri": "https://localhost:8080/"
        },
        "id": "WnuEHe4hlhIq",
        "outputId": "61e1eb6b-4c80-4ade-f225-a81283670c6e"
      },
      "execution_count": 12,
      "outputs": [
        {
          "output_type": "stream",
          "name": "stdout",
          "text": [
            "ostrich cannot fly at all\n",
            "most of the birds can fly but few cannot\n"
          ]
        }
      ]
    },
    {
      "cell_type": "code",
      "source": [
        "class measure:   #class cannot acess without creating an object\n",
        "  def __init__(self):\n",
        "    self.actual=0\n",
        "\n",
        "  def kilo(self):\n",
        "    self.actual=1\n",
        "  \n",
        "  def liter(self):\n",
        "    self.actual=2\n",
        "\n",
        "  def temp(self):\n",
        "    self.actual=3"
      ],
      "metadata": {
        "id": "NeH0ExwCozDu"
      },
      "execution_count": 19,
      "outputs": []
    },
    {
      "cell_type": "code",
      "source": [
        "class grgrgp:   #great great grand parent class\n",
        "  def speech(self):\n",
        "    print('speech level is 10')\n",
        "\n",
        "class grgp(grgrgp):  #great  grand parent class\n",
        "  def speech(self):\n",
        "    print('speech level is 9')\n",
        "\n",
        "class gp(grgp):  # grand parent class\n",
        "  def speech(self):\n",
        "    print('sppech level is 7')\n",
        "\n",
        "class parent(gp):   #gparent class\n",
        "  def speech(self):\n",
        "    print('speach level is 5')\n",
        "\n",
        "class kid(parent):   #child class\n",
        "  def speech(self):\n",
        "    print('speech level is 4')\n"
      ],
      "metadata": {
        "id": "BpyT60ELs02S"
      },
      "execution_count": 22,
      "outputs": []
    },
    {
      "cell_type": "code",
      "source": [
        "\n",
        "sp_grgp=grgp()\n",
        "sp_gp=gp()\n",
        "sp_parent=parent()\n",
        "sp_kid=kid()"
      ],
      "metadata": {
        "id": "wzR0koIDub7B"
      },
      "execution_count": 24,
      "outputs": []
    },
    {
      "cell_type": "code",
      "source": [
        "sp_grgp.speech()\n",
        "sp_gp.speech()\n",
        "sp_parent.speech()\n",
        "sp_kid.speech()"
      ],
      "metadata": {
        "colab": {
          "base_uri": "https://localhost:8080/"
        },
        "id": "pgnqSGfUvTAz",
        "outputId": "d5af2edd-631a-4ac2-ebac-e6cb3292fb7b"
      },
      "execution_count": 26,
      "outputs": [
        {
          "output_type": "stream",
          "name": "stdout",
          "text": [
            "speech level is 9\n",
            "sppech level is 7\n",
            "speach level is 5\n",
            "speech level is 4\n"
          ]
        }
      ]
    },
    {
      "cell_type": "code",
      "source": [
        "class grgrgp:   #great great grand parent class\n",
        "  def speech(self):\n",
        "    print('speech level is 10')\n",
        "\n",
        "class grgp(grgrgp):  #great  grand parent class\n",
        "  pass\n",
        "\n",
        "class gp(grgp):  # grand parent class\n",
        "  pass\n",
        "\n",
        "class parent(gp):   #gparent class\n",
        "  pass\n",
        "\n",
        "class kid(parent):   #child class\n",
        "  def speech(self):\n",
        "    print('speech level is 4')"
      ],
      "metadata": {
        "id": "0709lHPIvvQn"
      },
      "execution_count": 49,
      "outputs": []
    },
    {
      "cell_type": "code",
      "source": [
        "sp_grgp=grgp()\n",
        "sp_gp=gp()\n",
        "sp_parent=parent()\n",
        "sp_kid=kid()"
      ],
      "metadata": {
        "id": "vcIt33e-wBZI"
      },
      "execution_count": 50,
      "outputs": []
    },
    {
      "cell_type": "code",
      "source": [
        "sp_parent.speech()\n",
        "sp_kid.speech()"
      ],
      "metadata": {
        "colab": {
          "base_uri": "https://localhost:8080/"
        },
        "id": "O1MxhGfNv02A",
        "outputId": "c0fd083c-1110-4720-f74d-401b9aa5109e"
      },
      "execution_count": 51,
      "outputs": [
        {
          "output_type": "stream",
          "name": "stdout",
          "text": [
            "speech level is 10\n",
            "speech level is 4\n"
          ]
        }
      ]
    },
    {
      "cell_type": "code",
      "source": [
        "class user_def_exception(Exception):\n",
        "  pass"
      ],
      "metadata": {
        "id": "UTDgCI_dzR0Q"
      },
      "execution_count": 52,
      "outputs": []
    },
    {
      "cell_type": "code",
      "source": [
        "raise user_def_exception('user_def_exception is child exception of Exception ')"
      ],
      "metadata": {
        "colab": {
          "base_uri": "https://localhost:8080/",
          "height": 169
        },
        "id": "OQ5AsNkBz_Ep",
        "outputId": "1deab243-3095-45bb-d092-495020c19abe"
      },
      "execution_count": 54,
      "outputs": [
        {
          "output_type": "error",
          "ename": "user_def_exception",
          "evalue": "ignored",
          "traceback": [
            "\u001b[0;31m---------------------------------------------------------------------------\u001b[0m",
            "\u001b[0;31muser_def_exception\u001b[0m                        Traceback (most recent call last)",
            "\u001b[0;32m<ipython-input-54-331f86627096>\u001b[0m in \u001b[0;36m<module>\u001b[0;34m\u001b[0m\n\u001b[0;32m----> 1\u001b[0;31m \u001b[0;32mraise\u001b[0m \u001b[0muser_def_exception\u001b[0m\u001b[0;34m(\u001b[0m\u001b[0;34m'user_def_exception is child exception of Exception '\u001b[0m\u001b[0;34m)\u001b[0m\u001b[0;34m\u001b[0m\u001b[0;34m\u001b[0m\u001b[0m\n\u001b[0m",
            "\u001b[0;31muser_def_exception\u001b[0m: user_def_exception is child exception of Exception "
          ]
        }
      ]
    },
    {
      "cell_type": "code",
      "source": [
        "class myError(Exception):\n",
        "  def __init__(self,value):\n",
        "    self.value=value \n",
        "  def __str__(self):\n",
        "    return(repr(self.value))\n",
        "\n",
        "try:\n",
        "  raise myError(3*2)\n",
        "except myError as me:\n",
        "  print('myError',me)"
      ],
      "metadata": {
        "colab": {
          "base_uri": "https://localhost:8080/"
        },
        "id": "txzR_BMU1ydn",
        "outputId": "8ada69cb-28db-41e8-96ad-55fd3a28a6cb"
      },
      "execution_count": 56,
      "outputs": [
        {
          "output_type": "stream",
          "name": "stdout",
          "text": [
            "myError 6\n"
          ]
        }
      ]
    }
  ]
}